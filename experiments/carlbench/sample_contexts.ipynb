{
 "cells": [
  {
   "cell_type": "code",
   "execution_count": 2,
   "metadata": {
    "collapsed": true,
    "pycharm": {
     "name": "#%%\n"
    }
   },
   "outputs": [],
   "source": [
    "from functools import partial\n",
    "from experiments.common.utils.json_utils import lazy_json_dump\n",
    "from experiments.carlbench.context_sampling import ContextSampler\n",
    "\n",
    "# TODO make this a config\n",
    "env_name = \"CARLPendulumEnv\"\n",
    "sigma_rel = 0.1\n",
    "n_samples = 1000\n",
    "context_feature_names = [\"m\", \"l\", \"g\"]\n",
    "seed = 455\n",
    "cs_cls = partial(\n",
    "    ContextSampler,\n",
    "    env_name=env_name,\n",
    "    sigma_rel=sigma_rel,\n",
    "    n_samples=n_samples,\n",
    "    context_feature_names=context_feature_names,\n",
    "    seed=seed,\n",
    ")\n",
    "cs = cs_cls()\n",
    "contexts = cs.sample_contexts()\n",
    "lazy_json_dump(contexts, \"tmp/contexts_train.json\")\n",
    "cs = cs_cls()\n",
    "contexts = cs.sample_contexts()\n",
    "lazy_json_dump(contexts, \"tmp/contexts_eval.json\")"
   ]
  }
 ],
 "metadata": {
  "kernelspec": {
   "display_name": "Python 3",
   "language": "python",
   "name": "python3"
  },
  "language_info": {
   "codemirror_mode": {
    "name": "ipython",
    "version": 2
   },
   "file_extension": ".py",
   "mimetype": "text/x-python",
   "name": "python",
   "nbconvert_exporter": "python",
   "pygments_lexer": "ipython2",
   "version": "2.7.6"
  }
 },
 "nbformat": 4,
 "nbformat_minor": 0
}