{
 "cells": [
  {
   "cell_type": "code",
   "execution_count": 3,
   "metadata": {
    "pycharm": {
     "name": "#%%\n"
    },
    "tags": []
   },
   "outputs": [
    {
     "ename": "FileNotFoundError",
     "evalue": "[Errno 2] No such file or directory: '/home/numina/Documents/repos/CARL/experiments/attack_on_agents/tmp/2022-06-14/16-27-46/eval_data/eval_data.npz'",
     "output_type": "error",
     "traceback": [
      "\u001b[0;31m---------------------------------------------------------------------------\u001b[0m",
      "\u001b[0;31mFileNotFoundError\u001b[0m                         Traceback (most recent call last)",
      "\u001b[0;32m/tmp/ipykernel_5473/1453775591.py\u001b[0m in \u001b[0;36m<module>\u001b[0;34m\u001b[0m\n\u001b[1;32m      5\u001b[0m \u001b[0;34m\u001b[0m\u001b[0m\n\u001b[1;32m      6\u001b[0m \u001b[0mfp\u001b[0m \u001b[0;34m=\u001b[0m \u001b[0;34m\"/home/numina/Documents/repos/CARL/experiments/attack_on_agents/tmp/2022-06-14/16-27-46/eval_data/eval_data.npz\"\u001b[0m\u001b[0;34m\u001b[0m\u001b[0;34m\u001b[0m\u001b[0m\n\u001b[0;32m----> 7\u001b[0;31m \u001b[0meval_data\u001b[0m \u001b[0;34m=\u001b[0m \u001b[0mnp\u001b[0m\u001b[0;34m.\u001b[0m\u001b[0mload\u001b[0m\u001b[0;34m(\u001b[0m\u001b[0mfp\u001b[0m\u001b[0;34m,\u001b[0m \u001b[0mallow_pickle\u001b[0m\u001b[0;34m=\u001b[0m\u001b[0;32mTrue\u001b[0m\u001b[0;34m)\u001b[0m\u001b[0;34m.\u001b[0m\u001b[0mitem\u001b[0m\u001b[0;34m(\u001b[0m\u001b[0;34m)\u001b[0m\u001b[0;34m\u001b[0m\u001b[0;34m\u001b[0m\u001b[0m\n\u001b[0m\u001b[1;32m      8\u001b[0m \u001b[0mcontext\u001b[0m \u001b[0;34m=\u001b[0m \u001b[0meval_data\u001b[0m\u001b[0;34m[\u001b[0m\u001b[0;34m\"context\"\u001b[0m\u001b[0;34m]\u001b[0m\u001b[0;34m\u001b[0m\u001b[0;34m\u001b[0m\u001b[0m\n\u001b[1;32m      9\u001b[0m \u001b[0mtransitions\u001b[0m \u001b[0;34m=\u001b[0m \u001b[0meval_data\u001b[0m\u001b[0;34m[\u001b[0m\u001b[0;34m\"transitions\"\u001b[0m\u001b[0;34m]\u001b[0m\u001b[0;34m\u001b[0m\u001b[0;34m\u001b[0m\u001b[0m\n",
      "\u001b[0;32m~/.conda/envs/py39/lib/python3.9/site-packages/numpy/lib/npyio.py\u001b[0m in \u001b[0;36mload\u001b[0;34m(file, mmap_mode, allow_pickle, fix_imports, encoding)\u001b[0m\n\u001b[1;32m    388\u001b[0m             \u001b[0mown_fid\u001b[0m \u001b[0;34m=\u001b[0m \u001b[0;32mFalse\u001b[0m\u001b[0;34m\u001b[0m\u001b[0;34m\u001b[0m\u001b[0m\n\u001b[1;32m    389\u001b[0m         \u001b[0;32melse\u001b[0m\u001b[0;34m:\u001b[0m\u001b[0;34m\u001b[0m\u001b[0;34m\u001b[0m\u001b[0m\n\u001b[0;32m--> 390\u001b[0;31m             \u001b[0mfid\u001b[0m \u001b[0;34m=\u001b[0m \u001b[0mstack\u001b[0m\u001b[0;34m.\u001b[0m\u001b[0menter_context\u001b[0m\u001b[0;34m(\u001b[0m\u001b[0mopen\u001b[0m\u001b[0;34m(\u001b[0m\u001b[0mos_fspath\u001b[0m\u001b[0;34m(\u001b[0m\u001b[0mfile\u001b[0m\u001b[0;34m)\u001b[0m\u001b[0;34m,\u001b[0m \u001b[0;34m\"rb\"\u001b[0m\u001b[0;34m)\u001b[0m\u001b[0;34m)\u001b[0m\u001b[0;34m\u001b[0m\u001b[0;34m\u001b[0m\u001b[0m\n\u001b[0m\u001b[1;32m    391\u001b[0m             \u001b[0mown_fid\u001b[0m \u001b[0;34m=\u001b[0m \u001b[0;32mTrue\u001b[0m\u001b[0;34m\u001b[0m\u001b[0;34m\u001b[0m\u001b[0m\n\u001b[1;32m    392\u001b[0m \u001b[0;34m\u001b[0m\u001b[0m\n",
      "\u001b[0;31mFileNotFoundError\u001b[0m: [Errno 2] No such file or directory: '/home/numina/Documents/repos/CARL/experiments/attack_on_agents/tmp/2022-06-14/16-27-46/eval_data/eval_data.npz'"
     ]
    }
   ],
   "source": [
    "from rich import print\n",
    "import numpy as np\n",
    "import matplotlib.pyplot as plt\n",
    "import seaborn as sns\n",
    "\n",
    "fp = \"/home/numina/Documents/repos/CARL/experiments/attack_on_agents/tmp/2022-06-14/16-27-46/eval_data/eval_data.npz\"\n",
    "eval_data = np.load(fp, allow_pickle=True).item()\n",
    "context = eval_data[\"context\"]\n",
    "transitions = eval_data[\"transitions\"]\n",
    "states = np.array([t[1] for t in transitions])\n",
    "angles = np.arctan2(states[:, 1], states[:, 0]) % (2 * np.pi)\n",
    "angles = angles / (2 * np.pi) * 360\n",
    "angular_velocities = states[:, 2]\n",
    "\n",
    "plt.scatter(angles, angular_velocities)\n",
    "plt.show()\n",
    "\n",
    "plt.hist(angles, bins=50, label=\"angles\")\n",
    "plt.xlabel(r\"$\\theta$\")\n",
    "plt.show()\n",
    "\n",
    "plt.hist(angular_velocities, bins=50, label=\"velocities\")\n",
    "plt.xlabel(r\"$\\dot\\theta$\")\n",
    "plt.show()"
   ]
  },
  {
   "cell_type": "markdown",
   "metadata": {},
   "source": [
    "## Definitions for Gathering Data"
   ]
  },
  {
   "cell_type": "code",
   "execution_count": 10,
   "metadata": {
    "collapsed": false,
    "jupyter": {
     "outputs_hidden": false
    },
    "pycharm": {
     "name": "#%%\n"
    }
   },
   "outputs": [],
   "source": [
    "import numpy as np\n",
    "import glob\n",
    "import os\n",
    "from matplotlib import cm\n",
    "import matplotlib.pyplot as plt\n",
    "from matplotlib.colors import ListedColormap\n",
    "import seaborn as sns\n",
    "import pandas as pd\n",
    "import itertools\n",
    "\n",
    "\n",
    "def transitions_to_states(transitions):\n",
    "    states = np.array([t[1] for t in transitions])\n",
    "    # calculate angle with theta = atan2(y/x) = atan2(sin(theta)/cos(theta))\n",
    "    angles = np.arctan2(states[:, 1], states[:, 0])\n",
    "    angles = angles % (2 * np.pi) - np.pi  # move to range -pi, pi\n",
    "    angles = angles / (2 * np.pi) * 360  # convert radian to degree\n",
    "    angular_velocities = states[:, 2]\n",
    "    return angles, angular_velocities\n",
    "\n",
    "\n",
    "def normalize(A):\n",
    "    A_min = np.amin(A)\n",
    "    ptp = np.ptp(A)\n",
    "    return (A - A_min) / ptp\n",
    "\n",
    "\n",
    "def add_steps_to_episode_ids(E):\n",
    "    S = np.zeros_like(E)\n",
    "    k = 0\n",
    "    e_last = 0\n",
    "    for i, e in enumerate(E):\n",
    "        if e != e_last:\n",
    "            k = 0\n",
    "            e_last = e\n",
    "        S[i] = k\n",
    "        k += 1\n",
    "    return S\n",
    "\n",
    "\n",
    "def get_states_and_performance(out_dir: str) -> pd.DataFrame:\n",
    "    eval_data_fps = glob.glob(os.path.join(out_dir, \"**\", \"eval_data/*.npz\"), recursive=True)\n",
    "    eval_data_list = [np.load(fp, allow_pickle=True).item() for fp in eval_data_fps]\n",
    "    performance_list = np.array([D[\"performance\"] for D in eval_data_list])\n",
    "    performance_normalized = normalize(performance_list)\n",
    "    state_list = [transitions_to_states(D[\"transitions\"]) for D in eval_data_list]\n",
    "    angle_list = [S[0] for S in state_list]\n",
    "    velocity_list = [S[1] for S in state_list]\n",
    "\n",
    "    P = np.concatenate([[perf] * len(a) for perf, a in zip(performance_list, angle_list)])\n",
    "    Theta = np.concatenate(angle_list)\n",
    "    Theta_dot = np.concatenate(velocity_list)\n",
    "    context_ids = np.concatenate([[i] * len(a) for i, a in enumerate(angle_list)])\n",
    "\n",
    "    transition_list = [D[\"transitions\"] for D in eval_data_list]\n",
    "    T = list(itertools.chain(*transition_list))\n",
    "    E = [t[0] for t in T]\n",
    "    steps = add_steps_to_episode_ids(E)\n",
    "\n",
    "\n",
    "    data = pd.DataFrame({\n",
    "        \"performance\": P,\n",
    "        \"angle\": Theta,\n",
    "        \"angular_velocity\": Theta_dot,\n",
    "        \"context_id\": context_ids,\n",
    "        \"step\": steps\n",
    "    })\n",
    "    return data\n",
    "\n",
    "\n",
    "out_dir = \"/home/numina/Documents/repos/CARL/experiments/attack_on_agents/tmp/2022-06-14/16-55-48\"\n",
    "out_dir = \"/home/benjamin/Dokumente/code/tmp/CARL/experiments/attack_on_agents/tmp/2022-06-16/21-21-37\"\n",
    "out_dir = \"/home/benjamin/Dokumente/code/tmp/CARL/tmp/2022-06-17/08-08-21\"\n",
    "\n",
    "# Random agent\n",
    "# out_dir = \"/home/benjamin/Dokumente/code/tmp/CARL/tmp/2022-06-17/12-30-00\"  # random agent\n",
    "# identifier = \"random_agent\"\n",
    "\n",
    "# Trained agent\n",
    "out_dir = \"/home/benjamin/Dokumente/code/tmp/tntcomp/CARL/tmp/2022-08-02/21-05-01/\"  # trained agent\n",
    "identifier = \"trained_agent\"\n",
    "\n",
    "# Trained agent (no max_speeed)\n",
    "out_dir = \"/home/benjamin/Dokumente/code/tmp/tntcomp/CARL/tmp/2022-08-08\"\n",
    "identifier = \"trained_agent\"\n",
    "\n",
    "# Random agent (no max_speed)\n",
    "out_dir = \"/home/benjamin/Dokumente/code/tmp/tntcomp/CARL/tmp/2022-08-09\"\n",
    "identifier = \"random_agent\""
   ]
  },
  {
   "cell_type": "markdown",
   "metadata": {},
   "source": [
    "## Plot Return per State // Context ID per State"
   ]
  },
  {
   "cell_type": "code",
   "execution_count": 11,
   "metadata": {
    "collapsed": false,
    "jupyter": {
     "outputs_hidden": false
    },
    "pycharm": {
     "name": "#%%\n"
    }
   },
   "outputs": [
    {
     "name": "stdout",
     "output_type": "stream",
     "text": [
      "/home/benjamin/Dokumente/code/tmp/tntcomp/CARL/experiments/attack_on_agents\n"
     ]
    },
    {
     "data": {
      "image/png": "[encoded data removed]",
      "text/plain": [
       "<Figure size 576x288 with 2 Axes>"
      ]
     },
     "metadata": {
      "needs_background": "light"
     },
     "output_type": "display_data"
    },
    {
     "data": {
      "image/png": "[encoded data removed]",
      "text/plain": [
       "<Figure size 576x288 with 2 Axes>"
      ]
     },
     "metadata": {
      "needs_background": "light"
     },
     "output_type": "display_data"
    }
   ],
   "source": [
    "# Collect all states\n",
    "# plt.rcParams['axes.grid'] = False\n",
    "\n",
    "print(os.getcwd())\n",
    "data = get_states_and_performance(out_dir=out_dir)\n",
    "\n",
    "\n",
    "fig = plt.figure(figsize=(8,4))\n",
    "ax = fig.add_subplot(111)\n",
    "scatter = ax.scatter(x=data[\"angle\"], y=data[\"angular_velocity\"], c=data[\"performance\"], cmap=\"viridis\")\n",
    "cbar_label = \"performance\"\n",
    "ax.set_xlabel(r\"$\\theta$ [°]\")\n",
    "ax.set_ylabel(r\"$\\dot\\theta$ [1/s²]\")\n",
    "fig.colorbar(scatter, ax=ax, label=cbar_label)\n",
    "fig.set_tight_layout(True)\n",
    "plt.show()\n",
    "figfn = f\"tmp/states_by_return_{identifier}.png\"\n",
    "fig.savefig(figfn, dpi=300, bbox_inches=\"tight\")\n",
    "\n",
    "# fig = plt.figure(figsize=(8,4))\n",
    "# ax = fig.add_subplot(111)\n",
    "# scatter = ax.scatter(x=Theta, y=Theta_dot, c=steps, cmap=\"viridis\")\n",
    "# cbar_label = \"step\"\n",
    "# ax.set_xlabel(r\"$\\theta$ [°]\")\n",
    "# ax.set_ylabel(r\"$\\dot\\theta$ [1/s²]\")\n",
    "# fig.colorbar(scatter, ax=ax, label=cbar_label)\n",
    "# fig.set_tight_layout(True)\n",
    "# plt.show()\n",
    "\n",
    "fig = plt.figure(figsize=(8,4))\n",
    "ax = fig.add_subplot(111)\n",
    "cmap = sns.color_palette(\"colorblind\", n_colors=data[\"context_id\"].nunique())\n",
    "cmap = ListedColormap(cmap.as_hex())\n",
    "scatter = ax.scatter(x=data[\"angle\"], y=data[\"angular_velocity\"], c=data[\"context_id\"], cmap=cmap)\n",
    "cbar_label = \"context ID\"\n",
    "ax.set_xlabel(r\"$\\theta$ [°]\")\n",
    "ax.set_ylabel(r\"$\\dot\\theta$ [1/s²]\")\n",
    "fig.colorbar(scatter, ax=ax, label=cbar_label)\n",
    "fig.set_tight_layout(True)\n",
    "plt.show()\n",
    "figfn = f\"tmp/states_by_context_{identifier}.png\"\n",
    "fig.savefig(figfn, dpi=300, bbox_inches=\"tight\")"
   ]
  },
  {
   "cell_type": "markdown",
   "metadata": {},
   "source": [
    "## Trained Agent Visited State Space\n",
    "For `out_dir = \"/home/benjamin/Dokumente/code/tmp/tntcomp/CARL/tmp/2022-08-02/21-05-01/\"`.\n",
    "- state space much less covered\n",
    "- overfit to train context\n",
    "\n",
    "\n",
    "Find out:\n",
    "- Histogram of return for random agent and trained agent\n",
    "- How fast can BO find difficult contexts?"
   ]
  },
  {
   "cell_type": "code",
   "execution_count": 4,
   "metadata": {
    "collapsed": false,
    "jupyter": {
     "outputs_hidden": false
    },
    "pycharm": {
     "name": "#%%\n"
    }
   },
   "outputs": [
    {
     "data": {
      "text/html": [
       "<div>\n",
       "<style scoped>\n",
       "    .dataframe tbody tr th:only-of-type {\n",
       "        vertical-align: middle;\n",
       "    }\n",
       "\n",
       "    .dataframe tbody tr th {\n",
       "        vertical-align: top;\n",
       "    }\n",
       "\n",
       "    .dataframe thead th {\n",
       "        text-align: right;\n",
       "    }\n",
       "</style>\n",
       "<table border=\"1\" class=\"dataframe\">\n",
       "  <thead>\n",
       "    <tr style=\"text-align: right;\">\n",
       "      <th></th>\n",
       "      <th>performance</th>\n",
       "      <th>angle</th>\n",
       "      <th>angular_velocity</th>\n",
       "      <th>context_id</th>\n",
       "      <th>step</th>\n",
       "    </tr>\n",
       "  </thead>\n",
       "  <tbody>\n",
       "    <tr>\n",
       "      <th>0</th>\n",
       "      <td>-154.330028</td>\n",
       "      <td>14.750476</td>\n",
       "      <td>-0.966945</td>\n",
       "      <td>0</td>\n",
       "      <td>0</td>\n",
       "    </tr>\n",
       "    <tr>\n",
       "      <th>1</th>\n",
       "      <td>-154.330028</td>\n",
       "      <td>10.575510</td>\n",
       "      <td>-1.457336</td>\n",
       "      <td>0</td>\n",
       "      <td>1</td>\n",
       "    </tr>\n",
       "    <tr>\n",
       "      <th>2</th>\n",
       "      <td>-154.330028</td>\n",
       "      <td>5.147913</td>\n",
       "      <td>-1.894588</td>\n",
       "      <td>0</td>\n",
       "      <td>2</td>\n",
       "    </tr>\n",
       "    <tr>\n",
       "      <th>3</th>\n",
       "      <td>-154.330028</td>\n",
       "      <td>-1.331177</td>\n",
       "      <td>-2.261630</td>\n",
       "      <td>0</td>\n",
       "      <td>3</td>\n",
       "    </tr>\n",
       "    <tr>\n",
       "      <th>4</th>\n",
       "      <td>-154.330028</td>\n",
       "      <td>-8.619015</td>\n",
       "      <td>-2.543935</td>\n",
       "      <td>0</td>\n",
       "      <td>4</td>\n",
       "    </tr>\n",
       "    <tr>\n",
       "      <th>...</th>\n",
       "      <td>...</td>\n",
       "      <td>...</td>\n",
       "      <td>...</td>\n",
       "      <td>...</td>\n",
       "      <td>...</td>\n",
       "    </tr>\n",
       "    <tr>\n",
       "      <th>250995</th>\n",
       "      <td>-1950.352036</td>\n",
       "      <td>108.004128</td>\n",
       "      <td>8.000000</td>\n",
       "      <td>250</td>\n",
       "      <td>195</td>\n",
       "    </tr>\n",
       "    <tr>\n",
       "      <th>250996</th>\n",
       "      <td>-1950.352036</td>\n",
       "      <td>107.896286</td>\n",
       "      <td>-8.000000</td>\n",
       "      <td>250</td>\n",
       "      <td>196</td>\n",
       "    </tr>\n",
       "    <tr>\n",
       "      <th>250997</th>\n",
       "      <td>-1950.352036</td>\n",
       "      <td>108.004128</td>\n",
       "      <td>8.000000</td>\n",
       "      <td>250</td>\n",
       "      <td>197</td>\n",
       "    </tr>\n",
       "    <tr>\n",
       "      <th>250998</th>\n",
       "      <td>-1950.352036</td>\n",
       "      <td>107.896286</td>\n",
       "      <td>-8.000000</td>\n",
       "      <td>250</td>\n",
       "      <td>198</td>\n",
       "    </tr>\n",
       "    <tr>\n",
       "      <th>250999</th>\n",
       "      <td>-1950.352036</td>\n",
       "      <td>108.004128</td>\n",
       "      <td>8.000000</td>\n",
       "      <td>250</td>\n",
       "      <td>199</td>\n",
       "    </tr>\n",
       "  </tbody>\n",
       "</table>\n",
       "<p>251000 rows × 5 columns</p>\n",
       "</div>"
      ],
      "text/plain": [
       "        performance       angle  angular_velocity  context_id  step\n",
       "0       -154.330028   14.750476         -0.966945           0     0\n",
       "1       -154.330028   10.575510         -1.457336           0     1\n",
       "2       -154.330028    5.147913         -1.894588           0     2\n",
       "3       -154.330028   -1.331177         -2.261630           0     3\n",
       "4       -154.330028   -8.619015         -2.543935           0     4\n",
       "...             ...         ...               ...         ...   ...\n",
       "250995 -1950.352036  108.004128          8.000000         250   195\n",
       "250996 -1950.352036  107.896286         -8.000000         250   196\n",
       "250997 -1950.352036  108.004128          8.000000         250   197\n",
       "250998 -1950.352036  107.896286         -8.000000         250   198\n",
       "250999 -1950.352036  108.004128          8.000000         250   199\n",
       "\n",
       "[251000 rows x 5 columns]"
      ]
     },
     "execution_count": 4,
     "metadata": {},
     "output_type": "execute_result"
    }
   ],
   "source": [
    "data"
   ]
  },
  {
   "cell_type": "code",
   "execution_count": 12,
   "metadata": {
    "collapsed": false,
    "jupyter": {
     "outputs_hidden": false
    },
    "pycharm": {
     "name": "#%%\n"
    }
   },
   "outputs": [
    {
     "data": {
      "image/png": "[encoded data removed]",
      "text/plain": [
       "<Figure size 432x288 with 1 Axes>"
      ]
     },
     "metadata": {
      "needs_background": "light"
     },
     "output_type": "display_data"
    }
   ],
   "source": [
    "import glob\n",
    "import os\n",
    "import json\n",
    "import pandas as pd\n",
    "\n",
    "\n",
    "def read_trajectories(out_dir: str) -> pd.DataFrame:\n",
    "    def read_jsonl(fp):\n",
    "        with open(fp, 'r') as file:\n",
    "            lines = file.readlines()\n",
    "        data = [json.loads(l) for l in lines]\n",
    "        return data\n",
    "\n",
    "    smac_folders = glob.glob(os.path.join(out_dir, \"**\", \"smac*\", \"run_*\"), recursive=True)\n",
    "    tj_id = \"traj.json\"\n",
    "    trajectories = []\n",
    "    for i, smac_folder in enumerate(smac_folders):\n",
    "        traj_fp = os.path.join(smac_folder, tj_id)\n",
    "        trajectory = read_jsonl(traj_fp)\n",
    "        trajectory = pd.DataFrame(trajectory)\n",
    "        trajectory[\"trajectory_id\"] = i\n",
    "        trajectory.drop([0], inplace=True)  # drop the first row bc it contains cost of 2e9\n",
    "        trajectories.append(trajectory)\n",
    "\n",
    "    # trajectories = pd.concat([pd.DataFrame(T) for T in trajectories])\n",
    "    trajectories = pd.concat(trajectories)\n",
    "    trajectories.reset_index(drop=True, inplace=True)\n",
    "    return trajectories\n",
    "\n",
    "trajectories = read_trajectories(out_dir=out_dir)\n",
    "fig = plt.figure()\n",
    "ax = fig.add_subplot(111)\n",
    "ax = sns.lineplot(data=trajectories, x=\"evaluations\", y=\"cost\", hue=\"trajectory_id\", ax=ax)\n",
    "plt.show()"
   ]
  },
  {
   "cell_type": "markdown",
   "metadata": {},
   "source": [
    "## Compare Trajectories\n",
    "Between random and trained agents"
   ]
  },
  {
   "cell_type": "code",
   "execution_count": 23,
   "metadata": {},
   "outputs": [
    {
     "data": {
      "image/png": "[encoded data removed]",
      "text/plain": [
       "<Figure size 432x288 with 1 Axes>"
      ]
     },
     "metadata": {
      "needs_background": "light"
     },
     "output_type": "display_data"
    }
   ],
   "source": [
    "out_dirs = [\n",
    "    \"/home/benjamin/Dokumente/code/tmp/CARL/tmp/2022-06-17/12-30-00\",  # random agent\n",
    "    \"/home/benjamin/Dokumente/code/tmp/tntcomp/CARL/tmp/2022-08-02/21-05-01/\",  # trained agent\n",
    "]\n",
    "agents = [\"random\", \"trained\"]\n",
    "trajectories_list = []\n",
    "for i, out_dir in enumerate(out_dirs):\n",
    "    agent = agents[i]\n",
    "    trajectories = read_trajectories(out_dir=out_dir)\n",
    "    trajectories[\"agent\"] = [agent] * len(trajectories)\n",
    "    trajectories_list.append(trajectories)\n",
    "trajectories = pd.concat(trajectories_list).reset_index(drop=True)\n",
    "\n",
    "fig = plt.figure()\n",
    "ax = fig.add_subplot(111)\n",
    "ax = sns.lineplot(data=trajectories, x=\"evaluations\", y=\"cost\", hue=\"agent\", ax=ax, marker=\"o\", ls=\"\")\n",
    "plt.show()"
   ]
  },
  {
   "cell_type": "markdown",
   "metadata": {},
   "source": [
    "Trained agent deteriorates way faster than random agent."
   ]
  },
  {
   "cell_type": "markdown",
   "metadata": {},
   "source": [
    "## Difficulty of Contexts"
   ]
  },
  {
   "cell_type": "code",
   "execution_count": 13,
   "metadata": {},
   "outputs": [
    {
     "name": "stdout",
     "output_type": "stream",
     "text": [
      "1.3642420526593924e-12\n",
      "-449.73549153581854\n"
     ]
    },
    {
     "data": {
      "application/vnd.plotly.v1+json": {
       "config": {
        "plotlyServerURL": "https://plot.ly"
       },
       "data": [
        {
         "dimensions": [
          {
           "label": "dt",
           "values": [
            0.05,
            0.00013755359113757485,
            0.034415961956052746,
            0.05,
            0.00573862768141318,
            0.9924387687738919,
            0.010326015081920346,
            0.026007999559720024,
            0.025931467561240304,
            0.025818906020813645,
            0.02617414211142743,
            0.0017496219379641528,
            0.0175593005341336,
            0.017462156931010733,
            0.01751178634622244,
            0.11458622343243419,
            0.6984639928907056,
            0.022939292125049554,
            0.014942275419698762,
            0.014913149549380642,
            0.023731076005921004,
            0.00001002519196568572,
            0.02980696049225819,
            0.6583438640842267,
            0.026483092917189113,
            0.03212013601496165,
            0.027839801076310743,
            0.02737498849793763,
            0.016301821638143206,
            0.040091309258370796,
            0.017530979172358133,
            0.03925383651793573,
            0.026305991338369635,
            0.000010020650455283167,
            0.1189034257443286,
            0.04750503756175524,
            0.001645316464569155,
            0.013646180408745972,
            0.005337823290967025,
            0.01603238503880444,
            0.000245408756007124,
            0.02463567276054326,
            0.00022836886079634998,
            0.004115308178334388,
            0.9980012353547463,
            0.0002090051746678517,
            0.06462218345121108,
            0.021113481230531733,
            0.008017512284179342,
            0.000010003780167470207,
            0.023141711024205116,
            0.09733386112528664,
            0.04009327533996255,
            0.03149815876106152,
            0.017428892610417194,
            0.03444973424308178,
            0.0252732499817909,
            0.06080168605557462,
            0.00012374341814211785,
            0.000010083665134292416,
            0.03283886328336355,
            0.08212462416677754,
            0.005868100754851507,
            0.01589362884859933,
            0.01610941033707001,
            0.020173962967772113,
            0.026325087058001875,
            0.0019994803105410643,
            0.06442774701683408,
            0.00037833251644704485,
            0.03164291112838625,
            0.007134656391785218,
            0.9989706808345481,
            0.12370658229041562,
            0.11400297142337905,
            0.20445957939189086,
            0.0023378665093859875,
            0.06512603364907942,
            0.02452191690773732,
            0.01658398247429577,
            0.9981396013298716,
            0.011234841608859566,
            0.0016795642585470181,
            0.3144056908188927,
            0.028076541250286104,
            0.027700433107285705,
            0.015237468004484897,
            0.020830195624310217,
            0.037253551311704734,
            0.03151615954385606,
            0.014242796154580581,
            0.03101267831915925,
            0.0034119152533961107,
            0.1043098209842093,
            0.9994609992526153,
            0.043832585132092906,
            0.00017838993020155626,
            0.027005824032361958,
            0.3214153192248244,
            0.017057404034951793,
            0.9658999396796358,
            0.00001002357648113933,
            0.030958233300099416,
            0.014113188730297179,
            0.02147112794953519,
            0.010366244555651995,
            0.03935896004711793,
            0.050729142052106824,
            0.04077666570527896,
            0.00047442368435113633,
            0.04258805625430544,
            0.015419557491392708,
            0.006081574678116903,
            0.006192273325890887,
            0.027585312740858976,
            0.012635060484429144,
            0.0009239869444619838,
            0.016651943717710466,
            0.002857929794141131,
            0.14236820608239253,
            0.007074459641512827,
            0.06482729584630025,
            0.014401847143615996,
            0.02800093528876602,
            0.022356486276383033,
            0.02481152531355868,
            0.00006316705377692656,
            0.03977652696861509,
            0.028890824878050888,
            0.04281068380035818,
            0.9946665246263185,
            0.01679349419857301,
            0.06479552370062659,
            0.0011822919549471463,
            0.04177855458320668,
            0.0171573367613308,
            0.015585795099568013,
            0.10858251038017992,
            0.00001005218920422841,
            0.0036278311150380518,
            0.01658162606373429,
            0.013545366228521713,
            0.0008028631215548554,
            0.0007420025852155458,
            0.0801118066994581,
            0.014772088328009648,
            0.015539773600735097,
            0.038069614564384124,
            0.009127958981834536,
            0.002436263215952156,
            0.048056937211222374,
            0.044190859183500096,
            0.00008460437051805095,
            0.02010583315426076,
            0.03176196585277566,
            0.03162133087538326,
            0.008878319034421081,
            0.01566974333637179,
            0.9928928181572821,
            0.028788579625887493,
            0.004757938174372552,
            0.002598518832413046,
            0.013172916135378613,
            0.0373774091754216,
            0.019126327167288244,
            0.014383748368487,
            0.014543481570837466,
            0.016651943717710466,
            0.01952535991378193,
            0.000037106837418004705,
            0.025096183944158534,
            0.021036992294593906,
            0.06516037437250742,
            0.027398914128528757,
            0.03905044302528938,
            0.0030787738127401334,
            0.9999099299541014,
            0.026053895123419532,
            0.035208247872333884,
            0.033842772550776695,
            0.035835953326397295,
            0.0001854928859251152,
            0.027626628161826722,
            0.01690116562450942,
            0.023861918345061208,
            0.015270232106585924,
            0.015396159346562405,
            0.013303293070286843,
            0.0210922444433283,
            0.0011547931035331678,
            0.023599820819044336,
            0.0001026977862634306,
            0.029836696459991187,
            0.037890650036802594,
            0.01905057037684054,
            0.03543986836442607,
            0.0037448559791306043,
            0.017444302104800052,
            0.015481297837050895,
            0.014843429331933174,
            0.01972972238988013,
            0.01407798152985789,
            0.003047295804167661,
            0.03771338144893647,
            0.011882329553901535,
            0.12284471973696855,
            0.04149793177790997,
            0.026341392737392746,
            0.018377056983534854,
            0.019172205140041306,
            0.9967951291915704,
            0.019961389348592744,
            0.015346595360854457,
            0.0003265981456519943,
            0.019792695677294747,
            0.03926782045744294,
            0.11428884259740728,
            0.015171473680130507,
            0.00010593165015617176,
            0.01622432587230633,
            0.9880718841731517,
            0.030487345878587806,
            0.04202310248188429,
            0.0008178350255961429,
            0.08418747242648547,
            0.0679417193878795,
            0.012246750592771461,
            0.029220594945132235,
            0.024750072941958325,
            0.02129942975302019,
            0.021426470538835483,
            0.014954134991412994,
            0.015453797861869647,
            0.015171473680130507,
            0.9989456175730547,
            0.018004299263012814,
            0.020249890673698652,
            0.014212366151619487,
            0.01654256405343076,
            0.0793753493368494,
            0.03071540051613492,
            0.017251551109602352,
            0.017762431565091205,
            0.015732069840216925,
            0.029150901556302136,
            0.016346816130014756,
            0.050448695500554044,
            0.038080559397534255,
            0.035442354866857886,
            0.014502512205931965,
            0.01768647153549037
           ]
          },
          {
           "label": "g",
           "values": [
            10,
            1.305219642817974,
            15.509201288223267,
            10,
            15.618331515656507,
            17.07920684849585,
            9.048779575743826,
            19.999100745711374,
            19.997442272179097,
            19.995526444791285,
            19.99448806511114,
            18.334806352358676,
            17.41589941204968,
            17.454711873174194,
            17.402316884352743,
            19.982753562137752,
            11.94872194756761,
            19.990263185597104,
            19.99848989403024,
            19.995526444791285,
            18.519810603600128,
            19.99836502733023,
            3.038358486038588,
            11.46438115256081,
            19.99471971945427,
            17.130724742492248,
            19.998229939823766,
            19.9841800435024,
            19.996980023676482,
            16.73552073176772,
            18.990325916283904,
            17.476214985528085,
            16.28586301449515,
            19.99447307089667,
            14.8335199031002,
            19.9841800435024,
            19.997864420745394,
            15.43921234991571,
            0.007144935985968076,
            18.876800979191152,
            19.999211284408457,
            15.298311620970921,
            19.534565503730065,
            0.006823527932078291,
            0.001068675441795949,
            2.027723066135725,
            10.266559827342295,
            14.364597180448389,
            15.311854950551275,
            19.997760570033563,
            15.083257050969593,
            0.00891871682487705,
            13.649274984199195,
            17.19508700879841,
            17.515350537700268,
            18.7220422061956,
            17.690733514155326,
            19.99879144341959,
            0.0029646401968370416,
            0.0013760619577626778,
            19.971178198663747,
            19.99971041095051,
            19.999713467980882,
            14.049342483485576,
            19.99598645342768,
            17.25324780824337,
            7.68508872870754,
            19.99840237535626,
            19.999017658051194,
            0.004108828798273114,
            19.998445063057517,
            15.48024140576196,
            19.99982493898548,
            19.99553232880112,
            0.003601374068458972,
            19.999884642159817,
            19.993935625351526,
            15.477515932399564,
            19.997530954901393,
            19.99690420783526,
            19.98939644450598,
            0.0010289528396801098,
            19.999886607423328,
            19.999086407410303,
            17.488578869265268,
            18.573192354190745,
            16.239361626313745,
            16.286050510760415,
            19.998780124484593,
            8.166030686065765,
            17.901334522463664,
            19.996270235460724,
            19.9975817742799,
            19.99547729201779,
            0.038430050320580916,
            12.414293471140073,
            19.588364106962025,
            16.947351759390447,
            19.998782398907856,
            19.97795936519642,
            19.987061576701702,
            0.0063412222482197396,
            17.43624665346404,
            17.85316564530873,
            19.985908772457506,
            19.999651080225092,
            14.776449563273719,
            19.999365266980874,
            19.9364409507834,
            19.98848012322798,
            3.917326897877133,
            19.995088920857203,
            5.034699464053967,
            10.576020604001819,
            18.864950498733855,
            2.7687869001116727,
            19.999652844730758,
            17.203129108384044,
            4.641047103788796,
            19.998748383631707,
            19.991394523589427,
            14.965281619145234,
            19.99690420783526,
            11.360825112797627,
            18.864898157824726,
            13.211359890185987,
            19.9992998353233,
            16.457840562761767,
            19.99346840088444,
            19.977008014872176,
            19.988325486203273,
            19.98977323400598,
            12.646119666449035,
            19.997899522849945,
            8.591984818456078,
            15.661231048689118,
            19.290363951452147,
            19.996857859545493,
            0.009331051880815733,
            9.197112018112698,
            16.585589442969965,
            18.961126722718397,
            19.999509597238564,
            19.999495264390234,
            19.989012762156953,
            19.747700598569395,
            18.36005138093617,
            11.608742852722763,
            14.54383191273248,
            12.225370066065217,
            13.012602589871339,
            7.027529804821268,
            13.409931158822781,
            6.201070060432613,
            11.265119069452423,
            13.581304703448826,
            6.5065790876260765,
            19.44789693655912,
            19.998956586383002,
            19.989313830294545,
            2.8451584469065643,
            17.013713935637135,
            19.99615212017312,
            19.99848989403024,
            16.592535573643374,
            19.585677536796425,
            19.507244783085827,
            16.89242369318691,
            12.890019495772435,
            19.999591670212347,
            13.596997423143726,
            15.85547625656847,
            0.027471365096602966,
            5.985494336104278,
            10.392474728842672,
            11.748694469191252,
            19.999296594743225,
            15.091187679954674,
            5.11173210101668,
            7.42455781839573,
            5.730080437865959,
            3.654109300081456,
            18.10731127643847,
            14.437077252151877,
            8.156906264667853,
            18.895578502693457,
            18.911053005119516,
            19.99690420783526,
            18.735250313604293,
            10.240280922553707,
            19.995223923302305,
            19.995076348355006,
            7.745303104647629,
            5.26482643234767,
            19.988213170954495,
            8.967998399524076,
            9.594825979222886,
            10.306420713407451,
            13.007190751131771,
            19.99996225236897,
            19.091283776535274,
            19.999428596847608,
            12.845810020266004,
            17.048750024741327,
            19.99690420783526,
            0.005804462770782649,
            7.499431930143273,
            18.666586261689094,
            19.26961257446234,
            17.607632925334627,
            19.998350270086924,
            19.995526444791285,
            19.499555356355977,
            9.413332132180365,
            19.96098975914148,
            15.123981195502484,
            19.98260923703905,
            19.999428596847608,
            7.541306932682144,
            18.83214193693799,
            0.019299158068924044,
            18.191700440732117,
            16.761375125827925,
            0.004573351483363464,
            14.72076075527551,
            15.548760294169329,
            19.99848989403024,
            14.112138043909557,
            14.983023966780502,
            10.407858999825772,
            19.987117361109334,
            19.324710540024043,
            17.942616330956398,
            19.999428596847608,
            0.012868625863411556,
            19.92993885508333,
            17.807101362539225,
            19.31756391556819,
            19.387061279932208,
            19.996399907400395,
            18.59715305339752,
            16.816125349410218,
            13.404834701212634,
            15.183285448545359,
            9.399233090908766,
            19.426662571889384,
            12.053953405553898,
            8.71638955317491,
            19.998070866753757,
            19.999428596847608,
            18.247963849906018
           ]
          },
          {
           "label": "m",
           "values": [
            1,
            0.001395081887781956,
            0.7345015640164223,
            1,
            0.001433258681024667,
            9.99445905246044,
            9.998759964847308,
            9.919799811865131,
            9.969485079899059,
            9.996231643354417,
            9.998771846508667,
            9.994514077698728,
            9.998771846508667,
            9.996231643354417,
            9.984462400571433,
            0.00010019037908531789,
            0.017901462526037217,
            0.10754534454585923,
            9.892397265819978,
            9.895699428469731,
            1.1691781123723013,
            9.93901222177735,
            0.0019358979753855443,
            0.0056212109344633806,
            0.00010028026220794527,
            0.0051042947011212,
            0.003429105182015674,
            0.002901594830320855,
            9.984650070321138,
            0.00010004789261962097,
            9.969899004977218,
            9.967736324095329,
            0.00010049961001613167,
            9.8486544974602,
            0.023040305607370387,
            0.0001004258780721209,
            9.98918130713295,
            0.00010000277194906716,
            0.0001002102234457581,
            0.009244000918279557,
            0.00010131094284597591,
            9.9432002181237,
            0.00011123333752107402,
            0.0001000077806928725,
            9.99475268623816,
            4.433850849916649,
            0.00010003454913310396,
            0.00010002174160418241,
            0.01444088808859133,
            0.00010122446412737228,
            0.0001000161939084879,
            9.992046143110155,
            0.00010081141104194944,
            0.005183041526613224,
            0.00010037558817716344,
            9.998771846508667,
            9.967882743139247,
            1.0912574260965917,
            0.00010039637008713313,
            0.00010001065841019197,
            0.0001004618867205568,
            0.00010097210069173737,
            0.00010037558817716344,
            0.018698972541758542,
            0.00010023036098652684,
            0.00010044868939734323,
            9.990972474465611,
            9.977135241945,
            0.09178337806487605,
            9.903753747449553,
            0.08568056580160976,
            9.953334259108335,
            0.00010129837518188203,
            0.0001001179139084606,
            0.00010003771660190967,
            9.981805335881802,
            0.00010085042321793333,
            0.006665588185412559,
            9.998771846508667,
            0.5168619012379903,
            0.00010010702479832935,
            9.954562627719463,
            0.00010028858497017866,
            9.971793048697744,
            8.620484670121192,
            3.7784280409448527,
            9.982133409566602,
            9.99524770183414,
            0.11239219543329337,
            0.00010166616689411537,
            9.986224842947609,
            9.956322004533542,
            9.877775443555379,
            0.00010027129879231338,
            9.96952013008868,
            9.995229653368611,
            0.12210703897099974,
            9.972970209898477,
            0.00010123627093614287,
            0.002687530341601197,
            0.00010029596577186707,
            9.950992358582198,
            9.972979074503067,
            0.00010089628974608362,
            0.00010002767965184412,
            0.00010138321108326858,
            0.6391153492243417,
            0.0001003895605122694,
            0.0021083320192636142,
            9.99148605950154,
            0.00010049944816276084,
            0.00010023036098652684,
            0.001634623478929073,
            0.00010012803449308012,
            0.0004021299612838519,
            9.903148885226011,
            9.974143928766058,
            9.994339785393946,
            9.997223193737934,
            9.969719405139609,
            9.981141453606678,
            0.0013295063944603275,
            0.020825964214581296,
            9.998672251024844,
            0.00010010315666450967,
            9.98508584616133,
            9.999039638065039,
            0.0001006076796248424,
            1.8534778274237405,
            0.007971640557270933,
            9.99128507779824,
            0.028931742489481292,
            0.00010019451580762382,
            0.00010020027753308597,
            0.0023653196872677703,
            9.996139187039908,
            3.321213017592945,
            0.06102425127465636,
            9.83457279736427,
            0.10374306419519595,
            0.00010039903637506053,
            0.0015015596840014253,
            0.00010015222669925495,
            0.19629147623571044,
            9.988668268161408,
            0.005805693507733854,
            0.0004325138546047409,
            0.00010004491965448801,
            0.005535518480610994,
            0.0170748485299494,
            0.011746019761697722,
            0.00010010579018698265,
            0.0064610547924425134,
            0.00010039903637506053,
            0.00010016925158534543,
            9.982133409566602,
            5.275132161064331,
            0.10069375440757228,
            0.00010062028127862284,
            0.0038449421461556024,
            9.992481217354017,
            7.737576718849466,
            0.00010016963256333453,
            9.99707883035351,
            9.982133409566602,
            0.0006483830781487526,
            0.0006947503764255666,
            9.994339785393946,
            9.983442351271199,
            0.00010027116370884023,
            9.982234616514305,
            0.0001000412055563543,
            0.00010035512080005945,
            0.0007625741670421487,
            0.27022004381852444,
            9.984143280531912,
            9.990421820488415,
            0.00010039903637506053,
            0.00010170680708883709,
            9.96163955104499,
            0.03616069278980672,
            0.08409938393372635,
            0.09199500336739562,
            9.994339785393946,
            9.994339785393946,
            9.960487735535176,
            9.926471463816226,
            0.6985417393566019,
            0.006072400505302956,
            0.00010001445260380213,
            9.978100767210167,
            0.00010050029823530604,
            0.9461602472563696,
            0.0010058158987529084,
            0.00010006453658306584,
            0.00010000605056249856,
            0.00010050371228883905,
            9.982133409566602,
            9.994339785393946,
            0.18908253812804418,
            0.38181707577355134,
            3.1138341432633534,
            0.04587318797340839,
            0.010612307306836303,
            0.004793797524911899,
            0.00010090157599053328,
            0.30421072804156823,
            0.00010023034777893203,
            0.03375417715997788,
            9.994339785393946,
            9.989881206264581,
            1.2511951988466503,
            0.018027178893291713,
            0.000912627475556234,
            0.0002612951426288403,
            0.0005336351765360135,
            0.01521672605653075,
            1.7666616129254578,
            0.00010020007787699089,
            0.0018747569612687627,
            9.998565493581212,
            0.07009544662610523,
            0.055541025438514614,
            9.97365024199642,
            9.982133409566602,
            0.0001005191408735009,
            9.992524674039345,
            9.940121666290434,
            9.994339785393946,
            9.994339785393946,
            0.00046966795815445714,
            9.960487735535176,
            9.985557043280876,
            4.567244972366078,
            0.00010015221823529928,
            0.18895799871399557,
            0.0006296206865177764,
            0.002716936637050662,
            0.009621980577258044,
            9.985454897076613,
            0.0011207269836627754,
            9.994339785393946,
            9.994339785393946,
            9.990824773644537,
            9.980976783480637,
            0.6807767805143342,
            1.0882367079551425,
            0.0557865709727003,
            0.008032664054561054,
            2.420521519885563,
            0.00010008361906474848
           ]
          },
          {
           "label": "l",
           "values": [
            1,
            0.12289244309890945,
            0.0028103706995875415,
            1,
            0.0027898218416896386,
            0.0017185161100578337,
            0.002949952639077664,
            0.0023060245769138494,
            0.002292976395202785,
            0.0022908353612487086,
            0.002316911098345042,
            0.0010001236935435257,
            0.0013940489557664408,
            0.0014078716120471957,
            0.0013875071603975098,
            0.0010002602881545237,
            0.00884302420015299,
            0.0010000554944549053,
            0.001001690866411823,
            0.0010013665033319489,
            0.0013434770329417511,
            9.986187520257847,
            0.0025463945129342407,
            0.0014949830782288638,
            0.001000092724999976,
            0.0010000554944549053,
            0.004069935578861178,
            0.0010042836960152586,
            0.0021701202143882183,
            0.004185944352603646,
            0.0010009113086557216,
            0.010472390970463001,
            0.0022608952783840994,
            0.0010005317481725934,
            3.6196821221282534,
            0.00151215630210619,
            9.993404550569833,
            0.0010008834502975472,
            0.0010001661393370268,
            0.0010026570580725573,
            0.0010039749138231492,
            0.002700800979720319,
            0.02791743580942916,
            0.1146629627650216,
            9.952704795960535,
            0.08420245484685837,
            0.001000554004462785,
            0.0010004157731181049,
            0.03452855423412347,
            0.060588640842117465,
            0.008530950007271878,
            0.001001472178258093,
            0.0014468528871813694,
            0.0028356769241013966,
            0.0014435131814008399,
            0.0018219943114728694,
            0.001913676968129186,
            0.0010014928701166336,
            9.999674758120824,
            0.0010014131388097582,
            0.003251617023283253,
            0.007017275846086951,
            0.0010020851841419372,
            0.0015803865302256494,
            0.0010013857273611815,
            0.0010004157731181049,
            0.004544766837553302,
            0.00792585022961554,
            0.003237179549529826,
            0.0010008038155369598,
            0.001947133140527336,
            0.001000841782783927,
            0.2648432558784689,
            0.0552263595105893,
            0.04350936399843499,
            0.0010004037466866667,
            0.03429552206361376,
            0.0010009255206597167,
            0.0014795069757855966,
            0.0010013665033319489,
            9.985796081205976,
            9.95496812328625,
            0.006681844282397036,
            0.10509864952892646,
            0.0010000544754961056,
            0.0010000544754961056,
            0.0010009113086557216,
            0.0012479532015318509,
            0.003820076076908436,
            0.0010067612992659856,
            0.0010009113086557216,
            0.06083409487945167,
            0.027778297779029747,
            0.18742446453302844,
            0.41087123291191224,
            0.0010008409648372889,
            0.010667825263400167,
            0.0010000544754961056,
            0.01581231622575411,
            0.0010013665033319489,
            0.06888843282356617,
            9.92844865306968,
            0.002643021296392539,
            0.0010004157731181049,
            0.001917812138355534,
            0.2547356701136527,
            0.0010004965374068276,
            0.021093497131896777,
            0.0036323556397355613,
            0.00100339827986559,
            0.0010012458764968829,
            0.0035341005800061335,
            0.0010877406020697422,
            0.0010026691410102576,
            0.0020353554841482198,
            0.0010021262311269796,
            0.0619125968455226,
            0.0010009113086557216,
            0.005088652052959381,
            0.011903535830810495,
            0.16752384036305454,
            2.163917050934369,
            0.0010013665033319489,
            0.0010045814901461832,
            0.0014294797150896494,
            0.0018982016258751613,
            0.0010000831518581694,
            0.0010012491911009522,
            0.002096592326343046,
            0.0010022134843074993,
            0.027245899848041513,
            0.0010006912425460609,
            0.002951555412600898,
            0.0010009407682741176,
            0.00100139964552198,
            0.001288959726436392,
            0.0010009113086557216,
            0.031144757099687538,
            0.06799448483407936,
            0.0010029233975639578,
            0.0010026570580725573,
            0.0010013665033319489,
            0.5507606905562115,
            0.005758325800102219,
            0.0023664221642061586,
            0.0010013665033319489,
            0.0010013665033319489,
            0.0027741308925601674,
            0.001000065098333832,
            0.00986764839793443,
            0.002710567027886944,
            0.0010087095357850266,
            0.23499810301412094,
            0.0010000295658519128,
            0.0010050913663789554,
            0.0014883367925545101,
            0.04239176571498622,
            0.0010006912425460609,
            0.0010001846469377606,
            0.0027921166433423597,
            0.0010030108661218601,
            1.2603292536987531,
            9.95467086352008,
            0.001001690866411823,
            0.0014373203306341626,
            0.001001050649530452,
            0.0010013665033319489,
            0.0011824657501296203,
            0.0010009113086557216,
            0.0010003583461373313,
            0.0010009113086557216,
            0.0012975955684469145,
            0.001000010050577982,
            0.81405335303472,
            0.0010000173496233526,
            0.04777562991427412,
            0.7297513821879953,
            0.0010026570580725573,
            0.0010030771066964663,
            0.0010098980891550988,
            0.0010008523712065598,
            0.013010422497462032,
            0.0010006912425460609,
            0.0010008239133657837,
            0.0010002550340285207,
            0.0010005022174569365,
            0.0010013665033319489,
            0.0010013665033319489,
            0.001000046669291679,
            0.001000775682155612,
            0.0010013665033319489,
            9.999046801393675,
            0.0010028599084659425,
            0.0010014247025708191,
            0.0012506468387516575,
            0.0015944008224675886,
            0.0043498687024662135,
            0.0010009113086557216,
            0.0010008239133657837,
            0.0010012028697509565,
            0.0010012931150880432,
            0.0010005022174569365,
            0.0495850112198509,
            0.004761887471401863,
            0.0010013665033319489,
            9.983283922187901,
            0.0010028194311747344,
            0.0025599434248328064,
            0.0010006367911210717,
            0.001243718571328919,
            9.982230827945122,
            0.0010002503406013363,
            0.0010001832565731388,
            0.27640562317907735,
            0.0010006694069318372,
            0.0028425596736256537,
            0.008070808818311497,
            0.0010005022174569365,
            0.0010000891146107025,
            0.0010000723234059527,
            0.0010000561678183988,
            0.003263355901611858,
            0.0021816962038934554,
            9.97723211118683,
            0.0010009113086557216,
            0.0010036636339210198,
            0.001001690866411823,
            0.0026104749325813643,
            0.0018737598277486223,
            0.0010100170175005585,
            0.0015243206668543743,
            0.0010004245332307692,
            0.0010003930211739886,
            0.0010005022174569365,
            0.0010019402216784865,
            0.0010001555522293189,
            0.0010011682505164116,
            0.0010013665033319489,
            0.0010001832565731388,
            0.1704187174041354,
            0.003840960674013588,
            0.0012441544456642147,
            0.0012663895147257153,
            0.0010003930211739886,
            0.0013920296788506744,
            0.0010003795340522987,
            0.002015647248774532,
            0.001684541304866876,
            0.005970885295656574,
            0.001000170596485835,
            0.0011832355123017984
           ]
          }
         ],
         "domain": {
          "x": [
           0,
           1
          ],
          "y": [
           0,
           1
          ]
         },
         "line": {
          "color": [
           -1257.4337940728174,
           -665.7856861054642,
           -3052.5630579401654,
           -1257.4337940728174,
           -2504.8544252320853,
           -2399.284163704735,
           -2498.7590661868153,
           -3084.0376755812763,
           -3085.141799905795,
           -3086.311981795604,
           -3082.618492785887,
           -2438.930755853032,
           -3104.969810942943,
           -3105.977191295865,
           -3105.3267031995038,
           -2723.4878311765024,
           -1317.025537704681,
           -3098.2018218453422,
           -3113.0512420690084,
           -3111.802897278072,
           -3088.983270122842,
           -665.1914755619814,
           -2455.0243134202765,
           -1346.1674608927713,
           -3085.643079823223,
           -3063.397368689138,
           -3075.5155126721656,
           -3083.117151273943,
           -2548.4436460734305,
           -3030.540946723829,
           -3108.001658752998,
           -2476.8855297907426,
           -3083.9696956501375,
           -1750.6378208399867,
           -1082.863147389476,
           -3002.329238225302,
           -692.4252519567083,
           -3089.7404677332447,
           -1270.191147109865,
           -3110.7685902092057,
           -2006.831955097917,
           -3089.9870899268108,
           -1777.668898864888,
           -612.9966213005472,
           -667.7423337755587,
           -674.8587631449903,
           -2926.8407397923897,
           -3100.8570136199855,
           -2327.481544713219,
           -666.0319772671123,
           -2481.2843617521753,
           -1228.5412440993398,
           -3032.664973251356,
           -3065.18401883038,
           -3105.702513942258,
           -3054.082906418657,
           -3090.3876554101985,
           -2944.4508699564954,
           -665.5772397475561,
           -665.1978077446278,
           -3059.930836851216,
           -2852.6269148776905,
           -2537.2153421602984,
           -2545.723190560536,
           -3106.940735325251,
           -3105.9715967369693,
           -2478.393652817872,
           -2416.0851755308922,
           -2927.7245439070493,
           -668.3706513783511,
           -3066.129478593305,
           -2535.935919364665,
           -2358.3060048512625,
           -2674.731696563564,
           -590.0482457933316,
           -2405.2212919723415,
           -2340.912249566575,
           -2924.5971077518725,
           -3091.2364821569904,
           -3112.378504910903,
           -1699.1085011684056,
           -449.73549153581854,
           -2407.3735876205387,
           -2047.2045732143874,
           -3079.512775766327,
           -3082.0826054033764,
           -3112.1629239096305,
           -3102.038195984832,
           -3041.4002623280867,
           -3066.7396078643214,
           -3110.0102124872583,
           -2296.0209589839405,
           -2367.8111390888803,
           -2074.371872936733,
           -580.3894041384865,
           -3016.4376757314926,
           -1901.6426434539749,
           -3084.4775413312186,
           -2082.856139475379,
           -3104.305770270746,
           -2474.0689818937435,
           -665.2114177651222,
           -3066.0506104854826,
           -3103.8713112607516,
           -3100.0465563661683,
           -2002.4380324172496,
           -3034.6240558268555,
           -2443.2686707435037,
           -3029.571112776379,
           -2084.6349934042128,
           -3020.4138504982643,
           -2691.520084159199,
           -2501.3761581843137,
           -2525.9783409047145,
           -3081.699169840228,
           -2497.0326621600766,
           -2050.4461461886594,
           -3109.233854999126,
           -2393.3733840029236,
           -2606.936147052575,
           -2085.799617129739,
           -1168.4194685091754,
           -3112.8864174557884,
           -3079.9280073762175,
           -3099.4096477301073,
           -3089.5452486407185,
           -1934.9427198680773,
           -3034.2023485068903,
           -3074.42408073553,
           -3021.764959023831,
           -2394.3911267940484,
           -3110.9618251936695,
           -2926.0612716942765,
           -2360.2424961875395,
           -3024.776296738243,
           -3109.4647195746174,
           -3110.2304812908114,
           -2736.295829131336,
           -665.2101311387894,
           -2495.8345056900457,
           -3110.050080413005,
           -3111.5757060488986,
           -1076.5720088917103,
           -2180.8253877298607,
           -2863.7491697290657,
           -3111.08923315235,
           -3111.067818563484,
           -3036.4375272029342,
           -2544.4575461412487,
           -2400.991625867461,
           -2997.421868415147,
           -3015.465730538357,
           -671.0329752620831,
           -2533.1889081774693,
           -3065.7214177012597,
           -3066.2932740626784,
           -2143.4072643310456,
           -3110.103108269412,
           -2398.2694901494906,
           -3073.765018360461,
           -2475.242800936282,
           -1437.7625998833432,
           -981.870742758722,
           -3044.083300883479,
           -3103.8435581708645,
           -3113.4842682348267,
           -3105.993857341443,
           -3111.0039245311245,
           -3103.4695669397342,
           -1900.2236349219038,
           -3090.9642164461175,
           -3099.8650416290297,
           -1681.4724222216305,
           -1196.6727046984424,
           -3036.091577626011,
           -2203.8022415960554,
           -2324.2614554909096,
           -3086.9138564459417,
           -3049.5423128930756,
           -3054.936467658119,
           -3043.6006508764176,
           -1327.4545706574022,
           -3082.3036875275784,
           -3111.7144061256636,
           -3089.672241291208,
           -3113.69037774045,
           -3113.2751283988473,
           -3106.6646509404445,
           -3102.461520259546,
           -2342.0177108444063,
           -3093.1909186124944,
           -665.4004524722584,
           -3066.582584856137,
           -3040.1591529857114,
           -3107.53741044276,
           -3046.2681120976604,
           -2454.59141293966,
           -3093.1947002098977,
           -3099.7865918270218,
           -3104.8303476576457,
           -3106.6416230519962,
           -3113.385902891719,
           -2210.8652713719116,
           -3036.577519130806,
           -3094.746628218043,
           -723.1224640755976,
           -3026.6364146305896,
           -3084.0259030654897,
           -3108.2833550936725,
           -3106.3080307472624,
           -1693.537003966303,
           -3107.125220606186,
           -3111.280790403839,
           -718.0439264970591,
           -3105.871695343509,
           -3033.771595657043,
           -2724.6528798528125,
           -3112.238038067017,
           -1939.3891910352395,
           -3111.209031211166,
           -2349.45515039934,
           -3067.8550432320044,
           -3021.881825630684,
           -668.5766179448378,
           -2841.834726476475,
           -2913.2969520057795,
           -3082.494994784838,
           -3072.9406616182564,
           -3088.2017421088,
           -3098.8038872212373,
           -3099.2589521389996,
           -3109.0620962383264,
           -3111.7611923525956,
           -3112.238038067017,
           -1886.1251239366277,
           -3109.3556425508164,
           -3105.3949691180155,
           -3108.7797816773013,
           -3112.257836471605,
           -2102.4737458388568,
           -3067.4520340260215,
           -3110.8562718890053,
           -3095.9682827613406,
           -3106.9340085767612,
           -3072.8959014508073,
           -3107.7557720822306,
           -2989.423675535207,
           -3038.575840191746,
           -3047.2189154106,
           -3110.7268584475382,
           -3106.5602159377727
          ],
          "coloraxis": "coloraxis"
         },
         "name": "",
         "type": "parcoords"
        }
       ],
       "layout": {
        "coloraxis": {
         "colorbar": {
          "title": {
           "text": "performance"
          }
         },
         "colorscale": [
          [
           0,
           "#440154"
          ],
          [
           0.1111111111111111,
           "#482878"
          ],
          [
           0.2222222222222222,
           "#3e4989"
          ],
          [
           0.3333333333333333,
           "#31688e"
          ],
          [
           0.4444444444444444,
           "#26828e"
          ],
          [
           0.5555555555555556,
           "#1f9e89"
          ],
          [
           0.6666666666666666,
           "#35b779"
          ],
          [
           0.7777777777777778,
           "#6ece58"
          ],
          [
           0.8888888888888888,
           "#b5de2b"
          ],
          [
           1,
           "#fde725"
          ]
         ]
        },
        "legend": {
         "tracegroupgap": 0
        },
        "margin": {
         "t": 60
        },
        "template": {
         "data": {
          "bar": [
           {
            "error_x": {
             "color": "#2a3f5f"
            },
            "error_y": {
             "color": "#2a3f5f"
            },
            "marker": {
             "line": {
              "color": "#E5ECF6",
              "width": 0.5
             },
             "pattern": {
              "fillmode": "overlay",
              "size": 10,
              "solidity": 0.2
             }
            },
            "type": "bar"
           }
          ],
          "barpolar": [
           {
            "marker": {
             "line": {
              "color": "#E5ECF6",
              "width": 0.5
             },
             "pattern": {
              "fillmode": "overlay",
              "size": 10,
              "solidity": 0.2
             }
            },
            "type": "barpolar"
           }
          ],
          "carpet": [
           {
            "aaxis": {
             "endlinecolor": "#2a3f5f",
             "gridcolor": "white",
             "linecolor": "white",
             "minorgridcolor": "white",
             "startlinecolor": "#2a3f5f"
            },
            "baxis": {
             "endlinecolor": "#2a3f5f",
             "gridcolor": "white",
             "linecolor": "white",
             "minorgridcolor": "white",
             "startlinecolor": "#2a3f5f"
            },
            "type": "carpet"
           }
          ],
          "choropleth": [
           {
            "colorbar": {
             "outlinewidth": 0,
             "ticks": ""
            },
            "type": "choropleth"
           }
          ],
          "contour": [
           {
            "colorbar": {
             "outlinewidth": 0,
             "ticks": ""
            },
            "colorscale": [
             [
              0,
              "#0d0887"
             ],
             [
              0.1111111111111111,
              "#46039f"
             ],
             [
              0.2222222222222222,
              "#7201a8"
             ],
             [
              0.3333333333333333,
              "#9c179e"
             ],
             [
              0.4444444444444444,
              "#bd3786"
             ],
             [
              0.5555555555555556,
              "#d8576b"
             ],
             [
              0.6666666666666666,
              "#ed7953"
             ],
             [
              0.7777777777777778,
              "#fb9f3a"
             ],
             [
              0.8888888888888888,
              "#fdca26"
             ],
             [
              1,
              "#f0f921"
             ]
            ],
            "type": "contour"
           }
          ],
          "contourcarpet": [
           {
            "colorbar": {
             "outlinewidth": 0,
             "ticks": ""
            },
            "type": "contourcarpet"
           }
          ],
          "heatmap": [
           {
            "colorbar": {
             "outlinewidth": 0,
             "ticks": ""
            },
            "colorscale": [
             [
              0,
              "#0d0887"
             ],
             [
              0.1111111111111111,
              "#46039f"
             ],
             [
              0.2222222222222222,
              "#7201a8"
             ],
             [
              0.3333333333333333,
              "#9c179e"
             ],
             [
              0.4444444444444444,
              "#bd3786"
             ],
             [
              0.5555555555555556,
              "#d8576b"
             ],
             [
              0.6666666666666666,
              "#ed7953"
             ],
             [
              0.7777777777777778,
              "#fb9f3a"
             ],
             [
              0.8888888888888888,
              "#fdca26"
             ],
             [
              1,
              "#f0f921"
             ]
            ],
            "type": "heatmap"
           }
          ],
          "heatmapgl": [
           {
            "colorbar": {
             "outlinewidth": 0,
             "ticks": ""
            },
            "colorscale": [
             [
              0,
              "#0d0887"
             ],
             [
              0.1111111111111111,
              "#46039f"
             ],
             [
              0.2222222222222222,
              "#7201a8"
             ],
             [
              0.3333333333333333,
              "#9c179e"
             ],
             [
              0.4444444444444444,
              "#bd3786"
             ],
             [
              0.5555555555555556,
              "#d8576b"
             ],
             [
              0.6666666666666666,
              "#ed7953"
             ],
             [
              0.7777777777777778,
              "#fb9f3a"
             ],
             [
              0.8888888888888888,
              "#fdca26"
             ],
             [
              1,
              "#f0f921"
             ]
            ],
            "type": "heatmapgl"
           }
          ],
          "histogram": [
           {
            "marker": {
             "pattern": {
              "fillmode": "overlay",
              "size": 10,
              "solidity": 0.2
             }
            },
            "type": "histogram"
           }
          ],
          "histogram2d": [
           {
            "colorbar": {
             "outlinewidth": 0,
             "ticks": ""
            },
            "colorscale": [
             [
              0,
              "#0d0887"
             ],
             [
              0.1111111111111111,
              "#46039f"
             ],
             [
              0.2222222222222222,
              "#7201a8"
             ],
             [
              0.3333333333333333,
              "#9c179e"
             ],
             [
              0.4444444444444444,
              "#bd3786"
             ],
             [
              0.5555555555555556,
              "#d8576b"
             ],
             [
              0.6666666666666666,
              "#ed7953"
             ],
             [
              0.7777777777777778,
              "#fb9f3a"
             ],
             [
              0.8888888888888888,
              "#fdca26"
             ],
             [
              1,
              "#f0f921"
             ]
            ],
            "type": "histogram2d"
           }
          ],
          "histogram2dcontour": [
           {
            "colorbar": {
             "outlinewidth": 0,
             "ticks": ""
            },
            "colorscale": [
             [
              0,
              "#0d0887"
             ],
             [
              0.1111111111111111,
              "#46039f"
             ],
             [
              0.2222222222222222,
              "#7201a8"
             ],
             [
              0.3333333333333333,
              "#9c179e"
             ],
             [
              0.4444444444444444,
              "#bd3786"
             ],
             [
              0.5555555555555556,
              "#d8576b"
             ],
             [
              0.6666666666666666,
              "#ed7953"
             ],
             [
              0.7777777777777778,
              "#fb9f3a"
             ],
             [
              0.8888888888888888,
              "#fdca26"
             ],
             [
              1,
              "#f0f921"
             ]
            ],
            "type": "histogram2dcontour"
           }
          ],
          "mesh3d": [
           {
            "colorbar": {
             "outlinewidth": 0,
             "ticks": ""
            },
            "type": "mesh3d"
           }
          ],
          "parcoords": [
           {
            "line": {
             "colorbar": {
              "outlinewidth": 0,
              "ticks": ""
             }
            },
            "type": "parcoords"
           }
          ],
          "pie": [
           {
            "automargin": true,
            "type": "pie"
           }
          ],
          "scatter": [
           {
            "marker": {
             "colorbar": {
              "outlinewidth": 0,
              "ticks": ""
             }
            },
            "type": "scatter"
           }
          ],
          "scatter3d": [
           {
            "line": {
             "colorbar": {
              "outlinewidth": 0,
              "ticks": ""
             }
            },
            "marker": {
             "colorbar": {
              "outlinewidth": 0,
              "ticks": ""
             }
            },
            "type": "scatter3d"
           }
          ],
          "scattercarpet": [
           {
            "marker": {
             "colorbar": {
              "outlinewidth": 0,
              "ticks": ""
             }
            },
            "type": "scattercarpet"
           }
          ],
          "scattergeo": [
           {
            "marker": {
             "colorbar": {
              "outlinewidth": 0,
              "ticks": ""
             }
            },
            "type": "scattergeo"
           }
          ],
          "scattergl": [
           {
            "marker": {
             "colorbar": {
              "outlinewidth": 0,
              "ticks": ""
             }
            },
            "type": "scattergl"
           }
          ],
          "scattermapbox": [
           {
            "marker": {
             "colorbar": {
              "outlinewidth": 0,
              "ticks": ""
             }
            },
            "type": "scattermapbox"
           }
          ],
          "scatterpolar": [
           {
            "marker": {
             "colorbar": {
              "outlinewidth": 0,
              "ticks": ""
             }
            },
            "type": "scatterpolar"
           }
          ],
          "scatterpolargl": [
           {
            "marker": {
             "colorbar": {
              "outlinewidth": 0,
              "ticks": ""
             }
            },
            "type": "scatterpolargl"
           }
          ],
          "scatterternary": [
           {
            "marker": {
             "colorbar": {
              "outlinewidth": 0,
              "ticks": ""
             }
            },
            "type": "scatterternary"
           }
          ],
          "surface": [
           {
            "colorbar": {
             "outlinewidth": 0,
             "ticks": ""
            },
            "colorscale": [
             [
              0,
              "#0d0887"
             ],
             [
              0.1111111111111111,
              "#46039f"
             ],
             [
              0.2222222222222222,
              "#7201a8"
             ],
             [
              0.3333333333333333,
              "#9c179e"
             ],
             [
              0.4444444444444444,
              "#bd3786"
             ],
             [
              0.5555555555555556,
              "#d8576b"
             ],
             [
              0.6666666666666666,
              "#ed7953"
             ],
             [
              0.7777777777777778,
              "#fb9f3a"
             ],
             [
              0.8888888888888888,
              "#fdca26"
             ],
             [
              1,
              "#f0f921"
             ]
            ],
            "type": "surface"
           }
          ],
          "table": [
           {
            "cells": {
             "fill": {
              "color": "#EBF0F8"
             },
             "line": {
              "color": "white"
             }
            },
            "header": {
             "fill": {
              "color": "#C8D4E3"
             },
             "line": {
              "color": "white"
             }
            },
            "type": "table"
           }
          ]
         },
         "layout": {
          "annotationdefaults": {
           "arrowcolor": "#2a3f5f",
           "arrowhead": 0,
           "arrowwidth": 1
          },
          "autotypenumbers": "strict",
          "coloraxis": {
           "colorbar": {
            "outlinewidth": 0,
            "ticks": ""
           }
          },
          "colorscale": {
           "diverging": [
            [
             0,
             "#8e0152"
            ],
            [
             0.1,
             "#c51b7d"
            ],
            [
             0.2,
             "#de77ae"
            ],
            [
             0.3,
             "#f1b6da"
            ],
            [
             0.4,
             "#fde0ef"
            ],
            [
             0.5,
             "#f7f7f7"
            ],
            [
             0.6,
             "#e6f5d0"
            ],
            [
             0.7,
             "#b8e186"
            ],
            [
             0.8,
             "#7fbc41"
            ],
            [
             0.9,
             "#4d9221"
            ],
            [
             1,
             "#276419"
            ]
           ],
           "sequential": [
            [
             0,
             "#0d0887"
            ],
            [
             0.1111111111111111,
             "#46039f"
            ],
            [
             0.2222222222222222,
             "#7201a8"
            ],
            [
             0.3333333333333333,
             "#9c179e"
            ],
            [
             0.4444444444444444,
             "#bd3786"
            ],
            [
             0.5555555555555556,
             "#d8576b"
            ],
            [
             0.6666666666666666,
             "#ed7953"
            ],
            [
             0.7777777777777778,
             "#fb9f3a"
            ],
            [
             0.8888888888888888,
             "#fdca26"
            ],
            [
             1,
             "#f0f921"
            ]
           ],
           "sequentialminus": [
            [
             0,
             "#0d0887"
            ],
            [
             0.1111111111111111,
             "#46039f"
            ],
            [
             0.2222222222222222,
             "#7201a8"
            ],
            [
             0.3333333333333333,
             "#9c179e"
            ],
            [
             0.4444444444444444,
             "#bd3786"
            ],
            [
             0.5555555555555556,
             "#d8576b"
            ],
            [
             0.6666666666666666,
             "#ed7953"
            ],
            [
             0.7777777777777778,
             "#fb9f3a"
            ],
            [
             0.8888888888888888,
             "#fdca26"
            ],
            [
             1,
             "#f0f921"
            ]
           ]
          },
          "colorway": [
           "#636efa",
           "#EF553B",
           "#00cc96",
           "#ab63fa",
           "#FFA15A",
           "#19d3f3",
           "#FF6692",
           "#B6E880",
           "#FF97FF",
           "#FECB52"
          ],
          "font": {
           "color": "#2a3f5f"
          },
          "geo": {
           "bgcolor": "white",
           "lakecolor": "white",
           "landcolor": "#E5ECF6",
           "showlakes": true,
           "showland": true,
           "subunitcolor": "white"
          },
          "hoverlabel": {
           "align": "left"
          },
          "hovermode": "closest",
          "mapbox": {
           "style": "light"
          },
          "paper_bgcolor": "white",
          "plot_bgcolor": "#E5ECF6",
          "polar": {
           "angularaxis": {
            "gridcolor": "white",
            "linecolor": "white",
            "ticks": ""
           },
           "bgcolor": "#E5ECF6",
           "radialaxis": {
            "gridcolor": "white",
            "linecolor": "white",
            "ticks": ""
           }
          },
          "scene": {
           "xaxis": {
            "backgroundcolor": "#E5ECF6",
            "gridcolor": "white",
            "gridwidth": 2,
            "linecolor": "white",
            "showbackground": true,
            "ticks": "",
            "zerolinecolor": "white"
           },
           "yaxis": {
            "backgroundcolor": "#E5ECF6",
            "gridcolor": "white",
            "gridwidth": 2,
            "linecolor": "white",
            "showbackground": true,
            "ticks": "",
            "zerolinecolor": "white"
           },
           "zaxis": {
            "backgroundcolor": "#E5ECF6",
            "gridcolor": "white",
            "gridwidth": 2,
            "linecolor": "white",
            "showbackground": true,
            "ticks": "",
            "zerolinecolor": "white"
           }
          },
          "shapedefaults": {
           "line": {
            "color": "#2a3f5f"
           }
          },
          "ternary": {
           "aaxis": {
            "gridcolor": "white",
            "linecolor": "white",
            "ticks": ""
           },
           "baxis": {
            "gridcolor": "white",
            "linecolor": "white",
            "ticks": ""
           },
           "bgcolor": "#E5ECF6",
           "caxis": {
            "gridcolor": "white",
            "linecolor": "white",
            "ticks": ""
           }
          },
          "title": {
           "x": 0.05
          },
          "xaxis": {
           "automargin": true,
           "gridcolor": "white",
           "linecolor": "white",
           "ticks": "",
           "title": {
            "standoff": 15
           },
           "zerolinecolor": "white",
           "zerolinewidth": 2
          },
          "yaxis": {
           "automargin": true,
           "gridcolor": "white",
           "linecolor": "white",
           "ticks": "",
           "title": {
            "standoff": 15
           },
           "zerolinecolor": "white",
           "zerolinewidth": 2
          }
         }
        }
       }
      },
      "text/html": [
       "<div>                            <div id=\"50cef45b-b62b-45a8-8d91-1521b92d8cb7\" class=\"plotly-graph-div\" style=\"height:525px; width:100%;\"></div>            <script type=\"text/javascript\">                require([\"plotly\"], function(Plotly) {                    window.PLOTLYENV=window.PLOTLYENV || {};                                    if (document.getElementById(\"50cef45b-b62b-45a8-8d91-1521b92d8cb7\")) {                    Plotly.newPlot(                        \"50cef45b-b62b-45a8-8d91-1521b92d8cb7\",                        [{\"dimensions\":[{\"label\":\"dt\",\"values\":[0.05,0.00013755359113757485,0.034415961956052746,0.05,0.00573862768141318,0.9924387687738919,0.010326015081920346,0.026007999559720024,0.025931467561240304,0.025818906020813645,0.02617414211142743,0.0017496219379641528,0.0175593005341336,0.017462156931010733,0.01751178634622244,0.11458622343243419,0.6984639928907056,0.022939292125049554,0.014942275419698762,0.014913149549380642,0.023731076005921004,1.002519196568572e-05,0.02980696049225819,0.6583438640842267,0.026483092917189113,0.03212013601496165,0.027839801076310743,0.02737498849793763,0.016301821638143206,0.040091309258370796,0.017530979172358133,0.03925383651793573,0.026305991338369635,1.0020650455283167e-05,0.1189034257443286,0.04750503756175524,0.001645316464569155,0.013646180408745972,0.005337823290967025,0.01603238503880444,0.000245408756007124,0.02463567276054326,0.00022836886079634998,0.004115308178334388,0.9980012353547463,0.0002090051746678517,0.06462218345121108,0.021113481230531733,0.008017512284179342,1.0003780167470207e-05,0.023141711024205116,0.09733386112528664,0.04009327533996255,0.03149815876106152,0.017428892610417194,0.03444973424308178,0.0252732499817909,0.06080168605557462,0.00012374341814211785,1.0083665134292416e-05,0.03283886328336355,0.08212462416677754,0.005868100754851507,0.01589362884859933,0.01610941033707001,0.020173962967772113,0.026325087058001875,0.0019994803105410643,0.06442774701683408,0.00037833251644704485,0.03164291112838625,0.007134656391785218,0.9989706808345481,0.12370658229041562,0.11400297142337905,0.20445957939189086,0.0023378665093859875,0.06512603364907942,0.02452191690773732,0.01658398247429577,0.9981396013298716,0.011234841608859566,0.0016795642585470181,0.3144056908188927,0.028076541250286104,0.027700433107285705,0.015237468004484897,0.020830195624310217,0.037253551311704734,0.03151615954385606,0.014242796154580581,0.03101267831915925,0.0034119152533961107,0.1043098209842093,0.9994609992526153,0.043832585132092906,0.00017838993020155626,0.027005824032361958,0.3214153192248244,0.017057404034951793,0.9658999396796358,1.002357648113933e-05,0.030958233300099416,0.014113188730297179,0.02147112794953519,0.010366244555651995,0.03935896004711793,0.050729142052106824,0.04077666570527896,0.00047442368435113633,0.04258805625430544,0.015419557491392708,0.006081574678116903,0.006192273325890887,0.027585312740858976,0.012635060484429144,0.0009239869444619838,0.016651943717710466,0.002857929794141131,0.14236820608239253,0.007074459641512827,0.06482729584630025,0.014401847143615996,0.02800093528876602,0.022356486276383033,0.02481152531355868,6.316705377692656e-05,0.03977652696861509,0.028890824878050888,0.04281068380035818,0.9946665246263185,0.01679349419857301,0.06479552370062659,0.0011822919549471463,0.04177855458320668,0.0171573367613308,0.015585795099568013,0.10858251038017992,1.005218920422841e-05,0.0036278311150380518,0.01658162606373429,0.013545366228521713,0.0008028631215548554,0.0007420025852155458,0.0801118066994581,0.014772088328009648,0.015539773600735097,0.038069614564384124,0.009127958981834536,0.002436263215952156,0.048056937211222374,0.044190859183500096,8.460437051805095e-05,0.02010583315426076,0.03176196585277566,0.03162133087538326,0.008878319034421081,0.01566974333637179,0.9928928181572821,0.028788579625887493,0.004757938174372552,0.002598518832413046,0.013172916135378613,0.0373774091754216,0.019126327167288244,0.014383748368487,0.014543481570837466,0.016651943717710466,0.01952535991378193,3.7106837418004705e-05,0.025096183944158534,0.021036992294593906,0.06516037437250742,0.027398914128528757,0.03905044302528938,0.0030787738127401334,0.9999099299541014,0.026053895123419532,0.035208247872333884,0.033842772550776695,0.035835953326397295,0.0001854928859251152,0.027626628161826722,0.01690116562450942,0.023861918345061208,0.015270232106585924,0.015396159346562405,0.013303293070286843,0.0210922444433283,0.0011547931035331678,0.023599820819044336,0.0001026977862634306,0.029836696459991187,0.037890650036802594,0.01905057037684054,0.03543986836442607,0.0037448559791306043,0.017444302104800052,0.015481297837050895,0.014843429331933174,0.01972972238988013,0.01407798152985789,0.003047295804167661,0.03771338144893647,0.011882329553901535,0.12284471973696855,0.04149793177790997,0.026341392737392746,0.018377056983534854,0.019172205140041306,0.9967951291915704,0.019961389348592744,0.015346595360854457,0.0003265981456519943,0.019792695677294747,0.03926782045744294,0.11428884259740728,0.015171473680130507,0.00010593165015617176,0.01622432587230633,0.9880718841731517,0.030487345878587806,0.04202310248188429,0.0008178350255961429,0.08418747242648547,0.0679417193878795,0.012246750592771461,0.029220594945132235,0.024750072941958325,0.02129942975302019,0.021426470538835483,0.014954134991412994,0.015453797861869647,0.015171473680130507,0.9989456175730547,0.018004299263012814,0.020249890673698652,0.014212366151619487,0.01654256405343076,0.0793753493368494,0.03071540051613492,0.017251551109602352,0.017762431565091205,0.015732069840216925,0.029150901556302136,0.016346816130014756,0.050448695500554044,0.038080559397534255,0.035442354866857886,0.014502512205931965,0.01768647153549037]},{\"label\":\"g\",\"values\":[10.0,1.305219642817974,15.509201288223267,10.0,15.618331515656507,17.07920684849585,9.048779575743826,19.999100745711374,19.997442272179097,19.995526444791285,19.99448806511114,18.334806352358676,17.41589941204968,17.454711873174194,17.402316884352743,19.982753562137752,11.94872194756761,19.990263185597104,19.99848989403024,19.995526444791285,18.519810603600128,19.99836502733023,3.038358486038588,11.46438115256081,19.99471971945427,17.130724742492248,19.998229939823766,19.9841800435024,19.996980023676482,16.73552073176772,18.990325916283904,17.476214985528085,16.28586301449515,19.99447307089667,14.8335199031002,19.9841800435024,19.997864420745394,15.43921234991571,0.007144935985968076,18.876800979191152,19.999211284408457,15.298311620970921,19.534565503730065,0.006823527932078291,0.001068675441795949,2.027723066135725,10.266559827342295,14.364597180448389,15.311854950551275,19.997760570033563,15.083257050969593,0.00891871682487705,13.649274984199195,17.19508700879841,17.515350537700268,18.7220422061956,17.690733514155326,19.99879144341959,0.0029646401968370416,0.0013760619577626778,19.971178198663747,19.99971041095051,19.999713467980882,14.049342483485576,19.99598645342768,17.25324780824337,7.68508872870754,19.99840237535626,19.999017658051194,0.004108828798273114,19.998445063057517,15.48024140576196,19.99982493898548,19.99553232880112,0.003601374068458972,19.999884642159817,19.993935625351526,15.477515932399564,19.997530954901393,19.99690420783526,19.98939644450598,0.0010289528396801098,19.999886607423328,19.999086407410303,17.488578869265268,18.573192354190745,16.239361626313745,16.286050510760415,19.998780124484593,8.166030686065765,17.901334522463664,19.996270235460724,19.9975817742799,19.99547729201779,0.038430050320580916,12.414293471140073,19.588364106962025,16.947351759390447,19.998782398907856,19.97795936519642,19.987061576701702,0.0063412222482197396,17.43624665346404,17.85316564530873,19.985908772457506,19.999651080225092,14.776449563273719,19.999365266980874,19.9364409507834,19.98848012322798,3.917326897877133,19.995088920857203,5.034699464053967,10.576020604001819,18.864950498733855,2.7687869001116727,19.999652844730758,17.203129108384044,4.641047103788796,19.998748383631707,19.991394523589427,14.965281619145234,19.99690420783526,11.360825112797627,18.864898157824726,13.211359890185987,19.9992998353233,16.457840562761767,19.99346840088444,19.977008014872176,19.988325486203273,19.98977323400598,12.646119666449035,19.997899522849945,8.591984818456078,15.661231048689118,19.290363951452147,19.996857859545493,0.009331051880815733,9.197112018112698,16.585589442969965,18.961126722718397,19.999509597238564,19.999495264390234,19.989012762156953,19.747700598569395,18.36005138093617,11.608742852722763,14.54383191273248,12.225370066065217,13.012602589871339,7.027529804821268,13.409931158822781,6.201070060432613,11.265119069452423,13.581304703448826,6.5065790876260765,19.44789693655912,19.998956586383002,19.989313830294545,2.8451584469065643,17.013713935637135,19.99615212017312,19.99848989403024,16.592535573643374,19.585677536796425,19.507244783085827,16.89242369318691,12.890019495772435,19.999591670212347,13.596997423143726,15.85547625656847,0.027471365096602966,5.985494336104278,10.392474728842672,11.748694469191252,19.999296594743225,15.091187679954674,5.11173210101668,7.42455781839573,5.730080437865959,3.654109300081456,18.10731127643847,14.437077252151877,8.156906264667853,18.895578502693457,18.911053005119516,19.99690420783526,18.735250313604293,10.240280922553707,19.995223923302305,19.995076348355006,7.745303104647629,5.26482643234767,19.988213170954495,8.967998399524076,9.594825979222886,10.306420713407451,13.007190751131771,19.99996225236897,19.091283776535274,19.999428596847608,12.845810020266004,17.048750024741327,19.99690420783526,0.005804462770782649,7.499431930143273,18.666586261689094,19.26961257446234,17.607632925334627,19.998350270086924,19.995526444791285,19.499555356355977,9.413332132180365,19.96098975914148,15.123981195502484,19.98260923703905,19.999428596847608,7.541306932682144,18.83214193693799,0.019299158068924044,18.191700440732117,16.761375125827925,0.004573351483363464,14.72076075527551,15.548760294169329,19.99848989403024,14.112138043909557,14.983023966780502,10.407858999825772,19.987117361109334,19.324710540024043,17.942616330956398,19.999428596847608,0.012868625863411556,19.92993885508333,17.807101362539225,19.31756391556819,19.387061279932208,19.996399907400395,18.59715305339752,16.816125349410218,13.404834701212634,15.183285448545359,9.399233090908766,19.426662571889384,12.053953405553898,8.71638955317491,19.998070866753757,19.999428596847608,18.247963849906018]},{\"label\":\"m\",\"values\":[1.0,0.001395081887781956,0.7345015640164223,1.0,0.001433258681024667,9.99445905246044,9.998759964847308,9.919799811865131,9.969485079899059,9.996231643354417,9.998771846508667,9.994514077698728,9.998771846508667,9.996231643354417,9.984462400571433,0.00010019037908531789,0.017901462526037217,0.10754534454585923,9.892397265819978,9.895699428469731,1.1691781123723013,9.93901222177735,0.0019358979753855443,0.0056212109344633806,0.00010028026220794527,0.0051042947011212,0.003429105182015674,0.002901594830320855,9.984650070321138,0.00010004789261962097,9.969899004977218,9.967736324095329,0.00010049961001613167,9.8486544974602,0.023040305607370387,0.0001004258780721209,9.98918130713295,0.00010000277194906716,0.0001002102234457581,0.009244000918279557,0.00010131094284597591,9.9432002181237,0.00011123333752107402,0.0001000077806928725,9.99475268623816,4.433850849916649,0.00010003454913310396,0.00010002174160418241,0.01444088808859133,0.00010122446412737228,0.0001000161939084879,9.992046143110155,0.00010081141104194944,0.005183041526613224,0.00010037558817716344,9.998771846508667,9.967882743139247,1.0912574260965917,0.00010039637008713313,0.00010001065841019197,0.0001004618867205568,0.00010097210069173737,0.00010037558817716344,0.018698972541758542,0.00010023036098652684,0.00010044868939734323,9.990972474465611,9.977135241945,0.09178337806487605,9.903753747449553,0.08568056580160976,9.953334259108335,0.00010129837518188203,0.0001001179139084606,0.00010003771660190967,9.981805335881802,0.00010085042321793333,0.006665588185412559,9.998771846508667,0.5168619012379903,0.00010010702479832935,9.954562627719463,0.00010028858497017866,9.971793048697744,8.620484670121192,3.7784280409448527,9.982133409566602,9.99524770183414,0.11239219543329337,0.00010166616689411537,9.986224842947609,9.956322004533542,9.877775443555379,0.00010027129879231338,9.96952013008868,9.995229653368611,0.12210703897099974,9.972970209898477,0.00010123627093614287,0.002687530341601197,0.00010029596577186707,9.950992358582198,9.972979074503067,0.00010089628974608362,0.00010002767965184412,0.00010138321108326858,0.6391153492243417,0.0001003895605122694,0.0021083320192636142,9.99148605950154,0.00010049944816276084,0.00010023036098652684,0.001634623478929073,0.00010012803449308012,0.0004021299612838519,9.903148885226011,9.974143928766058,9.994339785393946,9.997223193737934,9.969719405139609,9.981141453606678,0.0013295063944603275,0.020825964214581296,9.998672251024844,0.00010010315666450967,9.98508584616133,9.999039638065039,0.0001006076796248424,1.8534778274237405,0.007971640557270933,9.99128507779824,0.028931742489481292,0.00010019451580762382,0.00010020027753308597,0.0023653196872677703,9.996139187039908,3.321213017592945,0.06102425127465636,9.83457279736427,0.10374306419519595,0.00010039903637506053,0.0015015596840014253,0.00010015222669925495,0.19629147623571044,9.988668268161408,0.005805693507733854,0.0004325138546047409,0.00010004491965448801,0.005535518480610994,0.0170748485299494,0.011746019761697722,0.00010010579018698265,0.0064610547924425134,0.00010039903637506053,0.00010016925158534543,9.982133409566602,5.275132161064331,0.10069375440757228,0.00010062028127862284,0.0038449421461556024,9.992481217354017,7.737576718849466,0.00010016963256333453,9.99707883035351,9.982133409566602,0.0006483830781487526,0.0006947503764255666,9.994339785393946,9.983442351271199,0.00010027116370884023,9.982234616514305,0.0001000412055563543,0.00010035512080005945,0.0007625741670421487,0.27022004381852444,9.984143280531912,9.990421820488415,0.00010039903637506053,0.00010170680708883709,9.96163955104499,0.03616069278980672,0.08409938393372635,0.09199500336739562,9.994339785393946,9.994339785393946,9.960487735535176,9.926471463816226,0.6985417393566019,0.006072400505302956,0.00010001445260380213,9.978100767210167,0.00010050029823530604,0.9461602472563696,0.0010058158987529084,0.00010006453658306584,0.00010000605056249856,0.00010050371228883905,9.982133409566602,9.994339785393946,0.18908253812804418,0.38181707577355134,3.1138341432633534,0.04587318797340839,0.010612307306836303,0.004793797524911899,0.00010090157599053328,0.30421072804156823,0.00010023034777893203,0.03375417715997788,9.994339785393946,9.989881206264581,1.2511951988466503,0.018027178893291713,0.000912627475556234,0.0002612951426288403,0.0005336351765360135,0.01521672605653075,1.7666616129254578,0.00010020007787699089,0.0018747569612687627,9.998565493581212,0.07009544662610523,0.055541025438514614,9.97365024199642,9.982133409566602,0.0001005191408735009,9.992524674039345,9.940121666290434,9.994339785393946,9.994339785393946,0.00046966795815445714,9.960487735535176,9.985557043280876,4.567244972366078,0.00010015221823529928,0.18895799871399557,0.0006296206865177764,0.002716936637050662,0.009621980577258044,9.985454897076613,0.0011207269836627754,9.994339785393946,9.994339785393946,9.990824773644537,9.980976783480637,0.6807767805143342,1.0882367079551425,0.0557865709727003,0.008032664054561054,2.420521519885563,0.00010008361906474848]},{\"label\":\"l\",\"values\":[1.0,0.12289244309890945,0.0028103706995875415,1.0,0.0027898218416896386,0.0017185161100578337,0.002949952639077664,0.0023060245769138494,0.002292976395202785,0.0022908353612487086,0.002316911098345042,0.0010001236935435257,0.0013940489557664408,0.0014078716120471957,0.0013875071603975098,0.0010002602881545237,0.00884302420015299,0.0010000554944549053,0.001001690866411823,0.0010013665033319489,0.0013434770329417511,9.986187520257847,0.0025463945129342407,0.0014949830782288638,0.001000092724999976,0.0010000554944549053,0.004069935578861178,0.0010042836960152586,0.0021701202143882183,0.004185944352603646,0.0010009113086557216,0.010472390970463001,0.0022608952783840994,0.0010005317481725934,3.6196821221282534,0.00151215630210619,9.993404550569833,0.0010008834502975472,0.0010001661393370268,0.0010026570580725573,0.0010039749138231492,0.002700800979720319,0.02791743580942916,0.1146629627650216,9.952704795960535,0.08420245484685837,0.001000554004462785,0.0010004157731181049,0.03452855423412347,0.060588640842117465,0.008530950007271878,0.001001472178258093,0.0014468528871813694,0.0028356769241013966,0.0014435131814008399,0.0018219943114728694,0.001913676968129186,0.0010014928701166336,9.999674758120824,0.0010014131388097582,0.003251617023283253,0.007017275846086951,0.0010020851841419372,0.0015803865302256494,0.0010013857273611815,0.0010004157731181049,0.004544766837553302,0.00792585022961554,0.003237179549529826,0.0010008038155369598,0.001947133140527336,0.001000841782783927,0.2648432558784689,0.0552263595105893,0.04350936399843499,0.0010004037466866667,0.03429552206361376,0.0010009255206597167,0.0014795069757855966,0.0010013665033319489,9.985796081205976,9.95496812328625,0.006681844282397036,0.10509864952892646,0.0010000544754961056,0.0010000544754961056,0.0010009113086557216,0.0012479532015318509,0.003820076076908436,0.0010067612992659856,0.0010009113086557216,0.06083409487945167,0.027778297779029747,0.18742446453302844,0.41087123291191224,0.0010008409648372889,0.010667825263400167,0.0010000544754961056,0.01581231622575411,0.0010013665033319489,0.06888843282356617,9.92844865306968,0.002643021296392539,0.0010004157731181049,0.001917812138355534,0.2547356701136527,0.0010004965374068276,0.021093497131896777,0.0036323556397355613,0.00100339827986559,0.0010012458764968829,0.0035341005800061335,0.0010877406020697422,0.0010026691410102576,0.0020353554841482198,0.0010021262311269796,0.0619125968455226,0.0010009113086557216,0.005088652052959381,0.011903535830810495,0.16752384036305454,2.163917050934369,0.0010013665033319489,0.0010045814901461832,0.0014294797150896494,0.0018982016258751613,0.0010000831518581694,0.0010012491911009522,0.002096592326343046,0.0010022134843074993,0.027245899848041513,0.0010006912425460609,0.002951555412600898,0.0010009407682741176,0.00100139964552198,0.001288959726436392,0.0010009113086557216,0.031144757099687538,0.06799448483407936,0.0010029233975639578,0.0010026570580725573,0.0010013665033319489,0.5507606905562115,0.005758325800102219,0.0023664221642061586,0.0010013665033319489,0.0010013665033319489,0.0027741308925601674,0.001000065098333832,0.00986764839793443,0.002710567027886944,0.0010087095357850266,0.23499810301412094,0.0010000295658519128,0.0010050913663789554,0.0014883367925545101,0.04239176571498622,0.0010006912425460609,0.0010001846469377606,0.0027921166433423597,0.0010030108661218601,1.2603292536987531,9.95467086352008,0.001001690866411823,0.0014373203306341626,0.001001050649530452,0.0010013665033319489,0.0011824657501296203,0.0010009113086557216,0.0010003583461373313,0.0010009113086557216,0.0012975955684469145,0.001000010050577982,0.81405335303472,0.0010000173496233526,0.04777562991427412,0.7297513821879953,0.0010026570580725573,0.0010030771066964663,0.0010098980891550988,0.0010008523712065598,0.013010422497462032,0.0010006912425460609,0.0010008239133657837,0.0010002550340285207,0.0010005022174569365,0.0010013665033319489,0.0010013665033319489,0.001000046669291679,0.001000775682155612,0.0010013665033319489,9.999046801393675,0.0010028599084659425,0.0010014247025708191,0.0012506468387516575,0.0015944008224675886,0.0043498687024662135,0.0010009113086557216,0.0010008239133657837,0.0010012028697509565,0.0010012931150880432,0.0010005022174569365,0.0495850112198509,0.004761887471401863,0.0010013665033319489,9.983283922187901,0.0010028194311747344,0.0025599434248328064,0.0010006367911210717,0.001243718571328919,9.982230827945122,0.0010002503406013363,0.0010001832565731388,0.27640562317907735,0.0010006694069318372,0.0028425596736256537,0.008070808818311497,0.0010005022174569365,0.0010000891146107025,0.0010000723234059527,0.0010000561678183988,0.003263355901611858,0.0021816962038934554,9.97723211118683,0.0010009113086557216,0.0010036636339210198,0.001001690866411823,0.0026104749325813643,0.0018737598277486223,0.0010100170175005585,0.0015243206668543743,0.0010004245332307692,0.0010003930211739886,0.0010005022174569365,0.0010019402216784865,0.0010001555522293189,0.0010011682505164116,0.0010013665033319489,0.0010001832565731388,0.1704187174041354,0.003840960674013588,0.0012441544456642147,0.0012663895147257153,0.0010003930211739886,0.0013920296788506744,0.0010003795340522987,0.002015647248774532,0.001684541304866876,0.005970885295656574,0.001000170596485835,0.0011832355123017984]}],\"domain\":{\"x\":[0.0,1.0],\"y\":[0.0,1.0]},\"line\":{\"color\":[-1257.4337940728174,-665.7856861054642,-3052.5630579401654,-1257.4337940728174,-2504.8544252320853,-2399.284163704735,-2498.7590661868153,-3084.0376755812763,-3085.141799905795,-3086.311981795604,-3082.618492785887,-2438.930755853032,-3104.969810942943,-3105.977191295865,-3105.3267031995038,-2723.4878311765024,-1317.025537704681,-3098.2018218453422,-3113.0512420690084,-3111.802897278072,-3088.983270122842,-665.1914755619814,-2455.0243134202765,-1346.1674608927713,-3085.643079823223,-3063.397368689138,-3075.5155126721656,-3083.117151273943,-2548.4436460734305,-3030.540946723829,-3108.001658752998,-2476.8855297907426,-3083.9696956501375,-1750.6378208399867,-1082.863147389476,-3002.329238225302,-692.4252519567083,-3089.7404677332447,-1270.191147109865,-3110.7685902092057,-2006.831955097917,-3089.9870899268108,-1777.668898864888,-612.9966213005472,-667.7423337755587,-674.8587631449903,-2926.8407397923897,-3100.8570136199855,-2327.481544713219,-666.0319772671123,-2481.2843617521753,-1228.5412440993398,-3032.664973251356,-3065.18401883038,-3105.702513942258,-3054.082906418657,-3090.3876554101985,-2944.4508699564954,-665.5772397475561,-665.1978077446278,-3059.930836851216,-2852.6269148776905,-2537.2153421602984,-2545.723190560536,-3106.940735325251,-3105.9715967369693,-2478.393652817872,-2416.0851755308922,-2927.7245439070493,-668.3706513783511,-3066.129478593305,-2535.935919364665,-2358.3060048512625,-2674.731696563564,-590.0482457933316,-2405.2212919723415,-2340.912249566575,-2924.5971077518725,-3091.2364821569904,-3112.378504910903,-1699.1085011684056,-449.73549153581854,-2407.3735876205387,-2047.2045732143874,-3079.512775766327,-3082.0826054033764,-3112.1629239096305,-3102.038195984832,-3041.4002623280867,-3066.7396078643214,-3110.0102124872583,-2296.0209589839405,-2367.8111390888803,-2074.371872936733,-580.3894041384865,-3016.4376757314926,-1901.6426434539749,-3084.4775413312186,-2082.856139475379,-3104.305770270746,-2474.0689818937435,-665.2114177651222,-3066.0506104854826,-3103.8713112607516,-3100.0465563661683,-2002.4380324172496,-3034.6240558268555,-2443.2686707435037,-3029.571112776379,-2084.6349934042128,-3020.4138504982643,-2691.520084159199,-2501.3761581843137,-2525.9783409047145,-3081.699169840228,-2497.0326621600766,-2050.4461461886594,-3109.233854999126,-2393.3733840029236,-2606.936147052575,-2085.799617129739,-1168.4194685091754,-3112.8864174557884,-3079.9280073762175,-3099.4096477301073,-3089.5452486407185,-1934.9427198680773,-3034.2023485068903,-3074.42408073553,-3021.764959023831,-2394.3911267940484,-3110.9618251936695,-2926.0612716942765,-2360.2424961875395,-3024.776296738243,-3109.4647195746174,-3110.2304812908114,-2736.295829131336,-665.2101311387894,-2495.8345056900457,-3110.050080413005,-3111.5757060488986,-1076.5720088917103,-2180.8253877298607,-2863.7491697290657,-3111.08923315235,-3111.067818563484,-3036.4375272029342,-2544.4575461412487,-2400.991625867461,-2997.421868415147,-3015.465730538357,-671.0329752620831,-2533.1889081774693,-3065.7214177012597,-3066.2932740626784,-2143.4072643310456,-3110.103108269412,-2398.2694901494906,-3073.765018360461,-2475.242800936282,-1437.7625998833432,-981.870742758722,-3044.083300883479,-3103.8435581708645,-3113.4842682348267,-3105.993857341443,-3111.0039245311245,-3103.4695669397342,-1900.2236349219038,-3090.9642164461175,-3099.8650416290297,-1681.4724222216305,-1196.6727046984424,-3036.091577626011,-2203.8022415960554,-2324.2614554909096,-3086.9138564459417,-3049.5423128930756,-3054.936467658119,-3043.6006508764176,-1327.4545706574022,-3082.3036875275784,-3111.7144061256636,-3089.672241291208,-3113.69037774045,-3113.2751283988473,-3106.6646509404445,-3102.461520259546,-2342.0177108444063,-3093.1909186124944,-665.4004524722584,-3066.582584856137,-3040.1591529857114,-3107.53741044276,-3046.2681120976604,-2454.59141293966,-3093.1947002098977,-3099.7865918270218,-3104.8303476576457,-3106.6416230519962,-3113.385902891719,-2210.8652713719116,-3036.577519130806,-3094.746628218043,-723.1224640755976,-3026.6364146305896,-3084.0259030654897,-3108.2833550936725,-3106.3080307472624,-1693.537003966303,-3107.125220606186,-3111.280790403839,-718.0439264970591,-3105.871695343509,-3033.771595657043,-2724.6528798528125,-3112.238038067017,-1939.3891910352395,-3111.209031211166,-2349.45515039934,-3067.8550432320044,-3021.881825630684,-668.5766179448378,-2841.834726476475,-2913.2969520057795,-3082.494994784838,-3072.9406616182564,-3088.2017421088,-3098.8038872212373,-3099.2589521389996,-3109.0620962383264,-3111.7611923525956,-3112.238038067017,-1886.1251239366277,-3109.3556425508164,-3105.3949691180155,-3108.7797816773013,-3112.257836471605,-2102.4737458388568,-3067.4520340260215,-3110.8562718890053,-3095.9682827613406,-3106.9340085767612,-3072.8959014508073,-3107.7557720822306,-2989.423675535207,-3038.575840191746,-3047.2189154106,-3110.7268584475382,-3106.5602159377727],\"coloraxis\":\"coloraxis\"},\"name\":\"\",\"type\":\"parcoords\"}],                        {\"coloraxis\":{\"colorbar\":{\"title\":{\"text\":\"performance\"}},\"colorscale\":[[0.0,\"#440154\"],[0.1111111111111111,\"#482878\"],[0.2222222222222222,\"#3e4989\"],[0.3333333333333333,\"#31688e\"],[0.4444444444444444,\"#26828e\"],[0.5555555555555556,\"#1f9e89\"],[0.6666666666666666,\"#35b779\"],[0.7777777777777778,\"#6ece58\"],[0.8888888888888888,\"#b5de2b\"],[1.0,\"#fde725\"]]},\"legend\":{\"tracegroupgap\":0},\"margin\":{\"t\":60},\"template\":{\"data\":{\"bar\":[{\"error_x\":{\"color\":\"#2a3f5f\"},\"error_y\":{\"color\":\"#2a3f5f\"},\"marker\":{\"line\":{\"color\":\"#E5ECF6\",\"width\":0.5},\"pattern\":{\"fillmode\":\"overlay\",\"size\":10,\"solidity\":0.2}},\"type\":\"bar\"}],\"barpolar\":[{\"marker\":{\"line\":{\"color\":\"#E5ECF6\",\"width\":0.5},\"pattern\":{\"fillmode\":\"overlay\",\"size\":10,\"solidity\":0.2}},\"type\":\"barpolar\"}],\"carpet\":[{\"aaxis\":{\"endlinecolor\":\"#2a3f5f\",\"gridcolor\":\"white\",\"linecolor\":\"white\",\"minorgridcolor\":\"white\",\"startlinecolor\":\"#2a3f5f\"},\"baxis\":{\"endlinecolor\":\"#2a3f5f\",\"gridcolor\":\"white\",\"linecolor\":\"white\",\"minorgridcolor\":\"white\",\"startlinecolor\":\"#2a3f5f\"},\"type\":\"carpet\"}],\"choropleth\":[{\"colorbar\":{\"outlinewidth\":0,\"ticks\":\"\"},\"type\":\"choropleth\"}],\"contour\":[{\"colorbar\":{\"outlinewidth\":0,\"ticks\":\"\"},\"colorscale\":[[0.0,\"#0d0887\"],[0.1111111111111111,\"#46039f\"],[0.2222222222222222,\"#7201a8\"],[0.3333333333333333,\"#9c179e\"],[0.4444444444444444,\"#bd3786\"],[0.5555555555555556,\"#d8576b\"],[0.6666666666666666,\"#ed7953\"],[0.7777777777777778,\"#fb9f3a\"],[0.8888888888888888,\"#fdca26\"],[1.0,\"#f0f921\"]],\"type\":\"contour\"}],\"contourcarpet\":[{\"colorbar\":{\"outlinewidth\":0,\"ticks\":\"\"},\"type\":\"contourcarpet\"}],\"heatmap\":[{\"colorbar\":{\"outlinewidth\":0,\"ticks\":\"\"},\"colorscale\":[[0.0,\"#0d0887\"],[0.1111111111111111,\"#46039f\"],[0.2222222222222222,\"#7201a8\"],[0.3333333333333333,\"#9c179e\"],[0.4444444444444444,\"#bd3786\"],[0.5555555555555556,\"#d8576b\"],[0.6666666666666666,\"#ed7953\"],[0.7777777777777778,\"#fb9f3a\"],[0.8888888888888888,\"#fdca26\"],[1.0,\"#f0f921\"]],\"type\":\"heatmap\"}],\"heatmapgl\":[{\"colorbar\":{\"outlinewidth\":0,\"ticks\":\"\"},\"colorscale\":[[0.0,\"#0d0887\"],[0.1111111111111111,\"#46039f\"],[0.2222222222222222,\"#7201a8\"],[0.3333333333333333,\"#9c179e\"],[0.4444444444444444,\"#bd3786\"],[0.5555555555555556,\"#d8576b\"],[0.6666666666666666,\"#ed7953\"],[0.7777777777777778,\"#fb9f3a\"],[0.8888888888888888,\"#fdca26\"],[1.0,\"#f0f921\"]],\"type\":\"heatmapgl\"}],\"histogram\":[{\"marker\":{\"pattern\":{\"fillmode\":\"overlay\",\"size\":10,\"solidity\":0.2}},\"type\":\"histogram\"}],\"histogram2d\":[{\"colorbar\":{\"outlinewidth\":0,\"ticks\":\"\"},\"colorscale\":[[0.0,\"#0d0887\"],[0.1111111111111111,\"#46039f\"],[0.2222222222222222,\"#7201a8\"],[0.3333333333333333,\"#9c179e\"],[0.4444444444444444,\"#bd3786\"],[0.5555555555555556,\"#d8576b\"],[0.6666666666666666,\"#ed7953\"],[0.7777777777777778,\"#fb9f3a\"],[0.8888888888888888,\"#fdca26\"],[1.0,\"#f0f921\"]],\"type\":\"histogram2d\"}],\"histogram2dcontour\":[{\"colorbar\":{\"outlinewidth\":0,\"ticks\":\"\"},\"colorscale\":[[0.0,\"#0d0887\"],[0.1111111111111111,\"#46039f\"],[0.2222222222222222,\"#7201a8\"],[0.3333333333333333,\"#9c179e\"],[0.4444444444444444,\"#bd3786\"],[0.5555555555555556,\"#d8576b\"],[0.6666666666666666,\"#ed7953\"],[0.7777777777777778,\"#fb9f3a\"],[0.8888888888888888,\"#fdca26\"],[1.0,\"#f0f921\"]],\"type\":\"histogram2dcontour\"}],\"mesh3d\":[{\"colorbar\":{\"outlinewidth\":0,\"ticks\":\"\"},\"type\":\"mesh3d\"}],\"parcoords\":[{\"line\":{\"colorbar\":{\"outlinewidth\":0,\"ticks\":\"\"}},\"type\":\"parcoords\"}],\"pie\":[{\"automargin\":true,\"type\":\"pie\"}],\"scatter\":[{\"marker\":{\"colorbar\":{\"outlinewidth\":0,\"ticks\":\"\"}},\"type\":\"scatter\"}],\"scatter3d\":[{\"line\":{\"colorbar\":{\"outlinewidth\":0,\"ticks\":\"\"}},\"marker\":{\"colorbar\":{\"outlinewidth\":0,\"ticks\":\"\"}},\"type\":\"scatter3d\"}],\"scattercarpet\":[{\"marker\":{\"colorbar\":{\"outlinewidth\":0,\"ticks\":\"\"}},\"type\":\"scattercarpet\"}],\"scattergeo\":[{\"marker\":{\"colorbar\":{\"outlinewidth\":0,\"ticks\":\"\"}},\"type\":\"scattergeo\"}],\"scattergl\":[{\"marker\":{\"colorbar\":{\"outlinewidth\":0,\"ticks\":\"\"}},\"type\":\"scattergl\"}],\"scattermapbox\":[{\"marker\":{\"colorbar\":{\"outlinewidth\":0,\"ticks\":\"\"}},\"type\":\"scattermapbox\"}],\"scatterpolar\":[{\"marker\":{\"colorbar\":{\"outlinewidth\":0,\"ticks\":\"\"}},\"type\":\"scatterpolar\"}],\"scatterpolargl\":[{\"marker\":{\"colorbar\":{\"outlinewidth\":0,\"ticks\":\"\"}},\"type\":\"scatterpolargl\"}],\"scatterternary\":[{\"marker\":{\"colorbar\":{\"outlinewidth\":0,\"ticks\":\"\"}},\"type\":\"scatterternary\"}],\"surface\":[{\"colorbar\":{\"outlinewidth\":0,\"ticks\":\"\"},\"colorscale\":[[0.0,\"#0d0887\"],[0.1111111111111111,\"#46039f\"],[0.2222222222222222,\"#7201a8\"],[0.3333333333333333,\"#9c179e\"],[0.4444444444444444,\"#bd3786\"],[0.5555555555555556,\"#d8576b\"],[0.6666666666666666,\"#ed7953\"],[0.7777777777777778,\"#fb9f3a\"],[0.8888888888888888,\"#fdca26\"],[1.0,\"#f0f921\"]],\"type\":\"surface\"}],\"table\":[{\"cells\":{\"fill\":{\"color\":\"#EBF0F8\"},\"line\":{\"color\":\"white\"}},\"header\":{\"fill\":{\"color\":\"#C8D4E3\"},\"line\":{\"color\":\"white\"}},\"type\":\"table\"}]},\"layout\":{\"annotationdefaults\":{\"arrowcolor\":\"#2a3f5f\",\"arrowhead\":0,\"arrowwidth\":1},\"autotypenumbers\":\"strict\",\"coloraxis\":{\"colorbar\":{\"outlinewidth\":0,\"ticks\":\"\"}},\"colorscale\":{\"diverging\":[[0,\"#8e0152\"],[0.1,\"#c51b7d\"],[0.2,\"#de77ae\"],[0.3,\"#f1b6da\"],[0.4,\"#fde0ef\"],[0.5,\"#f7f7f7\"],[0.6,\"#e6f5d0\"],[0.7,\"#b8e186\"],[0.8,\"#7fbc41\"],[0.9,\"#4d9221\"],[1,\"#276419\"]],\"sequential\":[[0.0,\"#0d0887\"],[0.1111111111111111,\"#46039f\"],[0.2222222222222222,\"#7201a8\"],[0.3333333333333333,\"#9c179e\"],[0.4444444444444444,\"#bd3786\"],[0.5555555555555556,\"#d8576b\"],[0.6666666666666666,\"#ed7953\"],[0.7777777777777778,\"#fb9f3a\"],[0.8888888888888888,\"#fdca26\"],[1.0,\"#f0f921\"]],\"sequentialminus\":[[0.0,\"#0d0887\"],[0.1111111111111111,\"#46039f\"],[0.2222222222222222,\"#7201a8\"],[0.3333333333333333,\"#9c179e\"],[0.4444444444444444,\"#bd3786\"],[0.5555555555555556,\"#d8576b\"],[0.6666666666666666,\"#ed7953\"],[0.7777777777777778,\"#fb9f3a\"],[0.8888888888888888,\"#fdca26\"],[1.0,\"#f0f921\"]]},\"colorway\":[\"#636efa\",\"#EF553B\",\"#00cc96\",\"#ab63fa\",\"#FFA15A\",\"#19d3f3\",\"#FF6692\",\"#B6E880\",\"#FF97FF\",\"#FECB52\"],\"font\":{\"color\":\"#2a3f5f\"},\"geo\":{\"bgcolor\":\"white\",\"lakecolor\":\"white\",\"landcolor\":\"#E5ECF6\",\"showlakes\":true,\"showland\":true,\"subunitcolor\":\"white\"},\"hoverlabel\":{\"align\":\"left\"},\"hovermode\":\"closest\",\"mapbox\":{\"style\":\"light\"},\"paper_bgcolor\":\"white\",\"plot_bgcolor\":\"#E5ECF6\",\"polar\":{\"angularaxis\":{\"gridcolor\":\"white\",\"linecolor\":\"white\",\"ticks\":\"\"},\"bgcolor\":\"#E5ECF6\",\"radialaxis\":{\"gridcolor\":\"white\",\"linecolor\":\"white\",\"ticks\":\"\"}},\"scene\":{\"xaxis\":{\"backgroundcolor\":\"#E5ECF6\",\"gridcolor\":\"white\",\"gridwidth\":2,\"linecolor\":\"white\",\"showbackground\":true,\"ticks\":\"\",\"zerolinecolor\":\"white\"},\"yaxis\":{\"backgroundcolor\":\"#E5ECF6\",\"gridcolor\":\"white\",\"gridwidth\":2,\"linecolor\":\"white\",\"showbackground\":true,\"ticks\":\"\",\"zerolinecolor\":\"white\"},\"zaxis\":{\"backgroundcolor\":\"#E5ECF6\",\"gridcolor\":\"white\",\"gridwidth\":2,\"linecolor\":\"white\",\"showbackground\":true,\"ticks\":\"\",\"zerolinecolor\":\"white\"}},\"shapedefaults\":{\"line\":{\"color\":\"#2a3f5f\"}},\"ternary\":{\"aaxis\":{\"gridcolor\":\"white\",\"linecolor\":\"white\",\"ticks\":\"\"},\"baxis\":{\"gridcolor\":\"white\",\"linecolor\":\"white\",\"ticks\":\"\"},\"bgcolor\":\"#E5ECF6\",\"caxis\":{\"gridcolor\":\"white\",\"linecolor\":\"white\",\"ticks\":\"\"}},\"title\":{\"x\":0.05},\"xaxis\":{\"automargin\":true,\"gridcolor\":\"white\",\"linecolor\":\"white\",\"ticks\":\"\",\"title\":{\"standoff\":15},\"zerolinecolor\":\"white\",\"zerolinewidth\":2},\"yaxis\":{\"automargin\":true,\"gridcolor\":\"white\",\"linecolor\":\"white\",\"ticks\":\"\",\"title\":{\"standoff\":15},\"zerolinecolor\":\"white\",\"zerolinewidth\":2}}}},                        {\"responsive\": true}                    ).then(function(){\n",
       "                            \n",
       "var gd = document.getElementById('50cef45b-b62b-45a8-8d91-1521b92d8cb7');\n",
       "var x = new MutationObserver(function (mutations, observer) {{\n",
       "        var display = window.getComputedStyle(gd).display;\n",
       "        if (!display || display === 'none') {{\n",
       "            console.log([gd, 'removed!']);\n",
       "            Plotly.purge(gd);\n",
       "            observer.disconnect();\n",
       "        }}\n",
       "}});\n",
       "\n",
       "// Listen for the removal of the full notebook cells\n",
       "var notebookContainer = gd.closest('#notebook-container');\n",
       "if (notebookContainer) {{\n",
       "    x.observe(notebookContainer, {childList: true});\n",
       "}}\n",
       "\n",
       "// Listen for the clearing of the current output cell\n",
       "var outputEl = gd.closest('.output');\n",
       "if (outputEl) {{\n",
       "    x.observe(outputEl, {childList: true});\n",
       "}}\n",
       "\n",
       "                        })                };                });            </script>        </div>"
      ]
     },
     "metadata": {},
     "output_type": "display_data"
    },
    {
     "name": "stdout",
     "output_type": "stream",
     "text": [
      "Worst context\n",
      "     performance  context_id       dt          g         m         l\n",
      "185 -3113.690378         185  0.01527  18.895579  9.960488  0.001001\n",
      "Best context\n",
      "    performance  context_id        dt         g         m         l\n",
      "81  -449.735492          81  0.011235  0.001029  9.954563  9.954968\n"
     ]
    }
   ],
   "source": [
    "import matplotlib as mpl\n",
    "\n",
    "data  = get_states_and_performance(out_dir=out_dir)\n",
    "\n",
    "# Cumulative performance per episode\n",
    "groups = data.groupby(\"context_id\")\n",
    "df = groups.apply(lambda x: pd.Series({\"mean\": np.mean(x[\"performance\"]), \"std\": np.std(x[\"performance\"])}))\n",
    "print(df[\"std\"].max())\n",
    "# std so small, can sort by mean\n",
    "context_ids_sorted = df.sort_values(by=\"mean\").index\n",
    "\n",
    "def get_context_performance(out_dir: str) -> pd.DataFrame:\n",
    "    eval_data_fps = glob.glob(os.path.join(out_dir, \"**\", \"eval_data/*.npz\"), recursive=True)\n",
    "    eval_data_list = [np.load(fp, allow_pickle=True).item() for fp in eval_data_fps]\n",
    "    performance_list = np.array([D[\"performance\"] for D in eval_data_list])\n",
    "    performance_normalized = normalize(performance_list)\n",
    "    contexts = [pd.Series(D[\"context\"]) for D in eval_data_list]\n",
    "    context_ids = np.arange(0, len(contexts))\n",
    "\n",
    "    data = pd.DataFrame({\n",
    "        \"performance\": performance_list,\n",
    "        \"context_id\": context_ids\n",
    "    })\n",
    "    data = data.join(pd.DataFrame(contexts))\n",
    "    return data\n",
    "\n",
    "data = get_context_performance(out_dir=out_dir)\n",
    "if \"initial_angle_max\" in data:\n",
    "    del data[\"initial_angle_max\"]\n",
    "if \"initial_velocity_max\" in data:\n",
    "    del data[\"initial_velocity_max\"]\n",
    "if \"max_speed\" in data:\n",
    "    del data[\"max_speed\"]\n",
    "\n",
    "P = data[\"performance\"]\n",
    "print(P.max())\n",
    "P_norm = normalize(P)\n",
    "cmap = mpl.cm.viridis\n",
    "colors = cmap(P_norm)\n",
    "# del data[\"performance\"]\n",
    "dimensions = [c for c in data.columns if c not in ['performance', 'context_id']]\n",
    "\n",
    "import plotly.express as px\n",
    "fig = px.parallel_coordinates(data, color=\"performance\",\n",
    "                              dimensions=dimensions,\n",
    "                             color_continuous_scale=\"Viridis\",\n",
    ")\n",
    "fig.show()\n",
    "\n",
    "print(\"Worst context\")\n",
    "print(data[data[\"performance\"] == data[\"performance\"].min()])\n",
    "print(\"Best context\")\n",
    "print(data[data[\"performance\"] == data[\"performance\"].max()])"
   ]
  },
  {
   "cell_type": "code",
   "execution_count": 77,
   "metadata": {
    "collapsed": false,
    "jupyter": {
     "outputs_hidden": false
    },
    "pycharm": {
     "name": "#%%\n"
    }
   },
   "outputs": [
    {
     "name": "stderr",
     "output_type": "stream",
     "text": [
      "Adding unsupported scenario options: {'save_results_instantly': 'True'}\n"
     ]
    },
    {
     "data": {
      "text/html": [
       "<pre style=\"white-space:pre;overflow-x:auto;line-height:normal;font-family:Menlo,'DejaVu Sans Mono',consolas,'Courier New',monospace\"><span style=\"font-weight: bold\">&lt;</span><span style=\"color: #ff00ff; text-decoration-color: #ff00ff; font-weight: bold\">smac.epm.gaussian_process_mcmc.GaussianProcessMCMC</span><span style=\"color: #000000; text-decoration-color: #000000\"> object at </span><span style=\"color: #008080; text-decoration-color: #008080; font-weight: bold\">0x7f0218229bb0</span><span style=\"font-weight: bold\">&gt;</span>\n",
       "</pre>\n"
      ],
      "text/plain": [
       "\u001b[1m<\u001b[0m\u001b[1;95msmac.epm.gaussian_process_mcmc.GaussianProcessMCMC\u001b[0m\u001b[39m object at \u001b[0m\u001b[1;36m0x7f0218229bb0\u001b[0m\u001b[1m>\u001b[0m\n"
      ]
     },
     "metadata": {},
     "output_type": "display_data"
    }
   ],
   "source": [
    "# Refit GPs\n",
    "import glob\n",
    "import os\n",
    "from pathlib import Path\n",
    "\n",
    "from smac.facade.smac_ac_facade import SMAC4AC\n",
    "from smac.facade.smac_bb_facade import SMAC4BB\n",
    "from smac.runhistory.runhistory import RunHistory\n",
    "from smac.scenario.scenario import Scenario\n",
    "from smac.stats.stats import Stats\n",
    "from smac.utils.io.traj_logging import TrajLogger\n",
    "\n",
    "smac_folders = glob.glob(os.path.join(out_dir, \"**\", \"smac*\", \"run_*\"), recursive=True)\n",
    "\n",
    "for smac_folder in smac_folders:\n",
    "    old_output_dir = smac_folder\n",
    "    scenario_path = os.path.join(old_output_dir, \"scenario.txt\")\n",
    "    smac_path = Path(smac_folder)\n",
    "    os.chdir(smac_path.parent.parent)\n",
    "    scenario = Scenario(scenario_path)\n",
    "\n",
    "    # We load the runhistory\n",
    "    rh_path = os.path.join(old_output_dir, \"runhistory.json\")\n",
    "    runhistory = RunHistory()\n",
    "    runhistory.load_json(rh_path, scenario.cs)\n",
    "\n",
    "    # And the stats\n",
    "    stats_path = os.path.join(old_output_dir, \"stats.json\")\n",
    "    stats = Stats(scenario)\n",
    "    stats.load(stats_path)\n",
    "\n",
    "    # And the trajectory\n",
    "    traj_path = os.path.join(old_output_dir, \"traj_aclib2.json\")\n",
    "    trajectory = TrajLogger.read_traj_aclib_format(fn=traj_path, cs=scenario.cs)\n",
    "    incumbent = trajectory[-1][\"incumbent\"]\n",
    "\n",
    "    # Now we can initialize SMAC with the recovered objects and restore the\n",
    "    # state where we left off. By providing stats and a restore_incumbent, SMAC\n",
    "    # automatically detects the intention of restoring a state.\n",
    "    smac = SMAC4BB(\n",
    "        scenario=scenario,\n",
    "        runhistory=runhistory,\n",
    "        stats=stats,\n",
    "        restore_incumbent=incumbent,\n",
    "        run_id=1,\n",
    "    )\n",
    "    # TODO try DeepCAVE\n",
    "    print(smac.solver.epm_chooser.model)\n",
    "    break\n"
   ]
  }
 ],
 "metadata": {
  "kernelspec": {
   "display_name": "Python 3.9.5 ('py39')",
   "language": "python",
   "name": "python3"
  },
  "language_info": {
   "codemirror_mode": {
    "name": "ipython",
    "version": 3
   },
   "file_extension": ".py",
   "mimetype": "text/x-python",
   "name": "python",
   "nbconvert_exporter": "python",
   "pygments_lexer": "ipython3",
   "version": "3.9.5"
  },
  "vscode": {
   "interpreter": {
    "hash": "0596034daa777f086c4b1c59ae0c07b75b1c1f7db2f8f736be540f20d5144017"
   }
  }
 },
 "nbformat": 4,
 "nbformat_minor": 4
}
