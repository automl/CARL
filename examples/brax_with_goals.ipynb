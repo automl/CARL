{
 "cells": [
  {
   "cell_type": "code",
   "execution_count": 1,
   "metadata": {},
   "outputs": [
    {
     "name": "stderr",
     "output_type": "stream",
     "text": [
      "/Users/theeimer/Documents/git/CARL/carl/envs/__init__.py:28: UserWarning: Module py4j not found. If you want to use these environments, please follow the installation guide.\n",
      "  warnings.warn(\n",
      "/Users/theeimer/Documents/git/CARL/carl/envs/__init__.py:28: UserWarning: Module distance not found. If you want to use these environments, please follow the installation guide.\n",
      "  warnings.warn(\n"
     ]
    }
   ],
   "source": [
    "import matplotlib.pyplot as plt\n",
    "from carl.context.context_space import NormalFloatContextFeature\n",
    "from carl.context.sampler import ContextSampler\n",
    "from carl.envs import CARLBraxAnt, CARLBraxPusher\n"
   ]
  },
  {
   "cell_type": "code",
   "execution_count": 2,
   "metadata": {},
   "outputs": [
    {
     "name": "stdout",
     "output_type": "stream",
     "text": [
      "{0: {'gravity': -9.8, 'friction': 1.0, 'elasticity': 0.0, 'ang_damping': -0.05, 'mass_torso': 10.0, 'viscosity': 0.0, 'target_distance': 8.82272212012359, 'target_direction': 11.564052345967665}, 1: {'gravity': -9.8, 'friction': 1.0, 'elasticity': 0.0, 'ang_damping': -0.05, 'mass_torso': 10.0, 'viscosity': 0.0, 'target_distance': 10.75008841752559, 'target_direction': 10.200157208367225}, 2: {'gravity': -9.8, 'friction': 1.0, 'elasticity': 0.0, 'ang_damping': -0.05, 'mass_torso': 10.0, 'viscosity': 0.0, 'target_distance': 9.648642791702303, 'target_direction': 10.77873798410574}, 3: {'gravity': -9.8, 'friction': 1.0, 'elasticity': 0.0, 'ang_damping': -0.05, 'mass_torso': 10.0, 'viscosity': 0.0, 'target_distance': 9.696781148206442, 'target_direction': 12.04089319920146}, 4: {'gravity': -9.8, 'friction': 1.0, 'elasticity': 0.0, 'ang_damping': -0.05, 'mass_torso': 10.0, 'viscosity': 0.0, 'target_distance': 10.210598501938373, 'target_direction': 11.667557990149968}}\n"
     ]
    },
    {
     "name": "stderr",
     "output_type": "stream",
     "text": [
      "/Users/theeimer/Documents/git/CARL/carl/envs/brax/carl_ant.py:26: RuntimeWarning: invalid value encountered in scalar divide\n",
      "  \"ang_damping\": UniformFloatContextFeature(\n"
     ]
    }
   ],
   "source": [
    "seed = 0\n",
    "context_distributions = [NormalFloatContextFeature(\"target_distance\", mu=9.8, sigma=1), NormalFloatContextFeature(\"target_direction\", mu=9.8, sigma=1)]\n",
    "context_sampler = ContextSampler(\n",
    "        context_distributions=context_distributions,\n",
    "        context_space=CARLBraxAnt.get_context_space(),\n",
    "        seed=seed,\n",
    "    )\n",
    "contexts = context_sampler.sample_contexts(n_contexts=5)\n",
    "print(contexts)"
   ]
  },
  {
   "cell_type": "code",
   "execution_count": 3,
   "metadata": {},
   "outputs": [
    {
     "ename": "AttributeError",
     "evalue": "'mujoco._structs.MjOption' object has no attribute 'collision'",
     "output_type": "error",
     "traceback": [
      "\u001b[0;31m---------------------------------------------------------------------------\u001b[0m",
      "\u001b[0;31mAttributeError\u001b[0m                            Traceback (most recent call last)",
      "\u001b[1;32m/Users/theeimer/Documents/git/CARL/examples/brax_with_goals.ipynb Cell 3\u001b[0m line \u001b[0;36m1\n\u001b[0;32m----> <a href='vscode-notebook-cell:/Users/theeimer/Documents/git/CARL/examples/brax_with_goals.ipynb#W4sZmlsZQ%3D%3D?line=0'>1</a>\u001b[0m env \u001b[39m=\u001b[39m CARLBraxAnt(contexts\u001b[39m=\u001b[39;49mcontexts, use_language_goals\u001b[39m=\u001b[39;49m\u001b[39mTrue\u001b[39;49;00m)\n\u001b[1;32m      <a href='vscode-notebook-cell:/Users/theeimer/Documents/git/CARL/examples/brax_with_goals.ipynb#W4sZmlsZQ%3D%3D?line=1'>2</a>\u001b[0m env\u001b[39m.\u001b[39mreset()\n\u001b[1;32m      <a href='vscode-notebook-cell:/Users/theeimer/Documents/git/CARL/examples/brax_with_goals.ipynb#W4sZmlsZQ%3D%3D?line=2'>3</a>\u001b[0m \u001b[39mprint\u001b[39m(\u001b[39mf\u001b[39m\u001b[39m\"\u001b[39m\u001b[39mCurrent context ID: \u001b[39m\u001b[39m{\u001b[39;00menv\u001b[39m.\u001b[39mcontext_id\u001b[39m}\u001b[39;00m\u001b[39m\"\u001b[39m)\n",
      "File \u001b[0;32m~/Documents/git/CARL/carl/envs/brax/carl_brax_env.py:193\u001b[0m, in \u001b[0;36mCARLBraxEnv.__init__\u001b[0;34m(self, env, batch_size, contexts, obs_context_features, obs_context_as_dict, context_selector, context_selector_kwargs, use_language_goals, **kwargs)\u001b[0m\n\u001b[1;32m    191\u001b[0m \u001b[39mif\u001b[39;00m env \u001b[39mis\u001b[39;00m \u001b[39mNone\u001b[39;00m:\n\u001b[1;32m    192\u001b[0m     bs \u001b[39m=\u001b[39m batch_size \u001b[39mif\u001b[39;00m batch_size \u001b[39m!=\u001b[39m \u001b[39m1\u001b[39m \u001b[39melse\u001b[39;00m \u001b[39mNone\u001b[39;00m\n\u001b[0;32m--> 193\u001b[0m     env \u001b[39m=\u001b[39m brax\u001b[39m.\u001b[39;49menvs\u001b[39m.\u001b[39;49mcreate(\n\u001b[1;32m    194\u001b[0m         env_name\u001b[39m=\u001b[39;49m\u001b[39mself\u001b[39;49m\u001b[39m.\u001b[39;49menv_name, backend\u001b[39m=\u001b[39;49m\u001b[39mself\u001b[39;49m\u001b[39m.\u001b[39;49mbackend, batch_size\u001b[39m=\u001b[39;49mbs\n\u001b[1;32m    195\u001b[0m     )\n\u001b[1;32m    196\u001b[0m     \u001b[39m# Brax uses gym instead of gymnasium\u001b[39;00m\n\u001b[1;32m    197\u001b[0m     \u001b[39mif\u001b[39;00m batch_size \u001b[39m==\u001b[39m \u001b[39m1\u001b[39m:\n",
      "File \u001b[0;32m~/anaconda3/envs/carl/lib/python3.9/site-packages/brax/envs/__init__.py:95\u001b[0m, in \u001b[0;36mcreate\u001b[0;34m(env_name, episode_length, action_repeat, auto_reset, batch_size, **kwargs)\u001b[0m\n\u001b[1;32m     74\u001b[0m \u001b[39mdef\u001b[39;00m \u001b[39mcreate\u001b[39m(\n\u001b[1;32m     75\u001b[0m     env_name: \u001b[39mstr\u001b[39m,\n\u001b[1;32m     76\u001b[0m     episode_length: \u001b[39mint\u001b[39m \u001b[39m=\u001b[39m \u001b[39m1000\u001b[39m,\n\u001b[0;32m   (...)\u001b[0m\n\u001b[1;32m     80\u001b[0m     \u001b[39m*\u001b[39m\u001b[39m*\u001b[39mkwargs,\n\u001b[1;32m     81\u001b[0m ) \u001b[39m-\u001b[39m\u001b[39m>\u001b[39m Env:\n\u001b[1;32m     82\u001b[0m \u001b[39m  \u001b[39m\u001b[39m\"\"\"Creates an environment from the registry.\u001b[39;00m\n\u001b[1;32m     83\u001b[0m \n\u001b[1;32m     84\u001b[0m \u001b[39m  Args:\u001b[39;00m\n\u001b[0;32m   (...)\u001b[0m\n\u001b[1;32m     93\u001b[0m \u001b[39m    env: an environment\u001b[39;00m\n\u001b[1;32m     94\u001b[0m \u001b[39m  \"\"\"\u001b[39;00m\n\u001b[0;32m---> 95\u001b[0m   env \u001b[39m=\u001b[39m _envs[env_name](\u001b[39m*\u001b[39;49m\u001b[39m*\u001b[39;49mkwargs)\n\u001b[1;32m     97\u001b[0m   \u001b[39mif\u001b[39;00m episode_length \u001b[39mis\u001b[39;00m \u001b[39mnot\u001b[39;00m \u001b[39mNone\u001b[39;00m:\n\u001b[1;32m     98\u001b[0m     env \u001b[39m=\u001b[39m training\u001b[39m.\u001b[39mEpisodeWrapper(env, episode_length, action_repeat)\n",
      "File \u001b[0;32m~/anaconda3/envs/carl/lib/python3.9/site-packages/brax/envs/ant.py:161\u001b[0m, in \u001b[0;36mAnt.__init__\u001b[0;34m(self, ctrl_cost_weight, use_contact_forces, contact_cost_weight, healthy_reward, terminate_when_unhealthy, healthy_z_range, contact_force_range, reset_noise_scale, exclude_current_positions_from_observation, backend, **kwargs)\u001b[0m\n\u001b[1;32m    146\u001b[0m \u001b[39mdef\u001b[39;00m \u001b[39m__init__\u001b[39m(\n\u001b[1;32m    147\u001b[0m     \u001b[39mself\u001b[39m,\n\u001b[1;32m    148\u001b[0m     ctrl_cost_weight\u001b[39m=\u001b[39m\u001b[39m0.5\u001b[39m,\n\u001b[0;32m   (...)\u001b[0m\n\u001b[1;32m    158\u001b[0m     \u001b[39m*\u001b[39m\u001b[39m*\u001b[39mkwargs,\n\u001b[1;32m    159\u001b[0m ):\n\u001b[1;32m    160\u001b[0m   path \u001b[39m=\u001b[39m epath\u001b[39m.\u001b[39mresource_path(\u001b[39m'\u001b[39m\u001b[39mbrax\u001b[39m\u001b[39m'\u001b[39m) \u001b[39m/\u001b[39m \u001b[39m'\u001b[39m\u001b[39menvs/assets/ant.xml\u001b[39m\u001b[39m'\u001b[39m\n\u001b[0;32m--> 161\u001b[0m   sys \u001b[39m=\u001b[39m mjcf\u001b[39m.\u001b[39;49mload(path)\n\u001b[1;32m    163\u001b[0m   n_frames \u001b[39m=\u001b[39m \u001b[39m5\u001b[39m\n\u001b[1;32m    165\u001b[0m   \u001b[39mif\u001b[39;00m backend \u001b[39min\u001b[39;00m [\u001b[39m'\u001b[39m\u001b[39mspring\u001b[39m\u001b[39m'\u001b[39m, \u001b[39m'\u001b[39m\u001b[39mpositional\u001b[39m\u001b[39m'\u001b[39m]:\n",
      "File \u001b[0;32m~/anaconda3/envs/carl/lib/python3.9/site-packages/brax/io/mjcf.py:520\u001b[0m, in \u001b[0;36mload\u001b[0;34m(path)\u001b[0m\n\u001b[1;32m    517\u001b[0m xml \u001b[39m=\u001b[39m ElementTree\u001b[39m.\u001b[39mtostring(elem, encoding\u001b[39m=\u001b[39m\u001b[39m'\u001b[39m\u001b[39municode\u001b[39m\u001b[39m'\u001b[39m)\n\u001b[1;32m    518\u001b[0m mj \u001b[39m=\u001b[39m mujoco\u001b[39m.\u001b[39mMjModel\u001b[39m.\u001b[39mfrom_xml_string(xml, assets\u001b[39m=\u001b[39massets)\n\u001b[0;32m--> 520\u001b[0m \u001b[39mreturn\u001b[39;00m load_model(mj)\n",
      "File \u001b[0;32m~/anaconda3/envs/carl/lib/python3.9/site-packages/brax/io/mjcf.py:254\u001b[0m, in \u001b[0;36mload_model\u001b[0;34m(mj)\u001b[0m\n\u001b[1;32m    252\u001b[0m \u001b[39mif\u001b[39;00m (mj\u001b[39m.\u001b[39mgeom_priority[\u001b[39m0\u001b[39m] \u001b[39m!=\u001b[39m mj\u001b[39m.\u001b[39mgeom_priority)\u001b[39m.\u001b[39many():\n\u001b[1;32m    253\u001b[0m   \u001b[39mraise\u001b[39;00m \u001b[39mNotImplementedError\u001b[39;00m(\u001b[39m'\u001b[39m\u001b[39mgeom_priority parameter not supported.\u001b[39m\u001b[39m'\u001b[39m)\n\u001b[0;32m--> 254\u001b[0m \u001b[39mif\u001b[39;00m mj\u001b[39m.\u001b[39;49mopt\u001b[39m.\u001b[39;49mcollision \u001b[39m==\u001b[39m \u001b[39m1\u001b[39m:\n\u001b[1;32m    255\u001b[0m   \u001b[39mraise\u001b[39;00m \u001b[39mNotImplementedError\u001b[39;00m(\u001b[39m'\u001b[39m\u001b[39mPredefined collisions not supported.\u001b[39m\u001b[39m'\u001b[39m)\n\u001b[1;32m    256\u001b[0m q_width \u001b[39m=\u001b[39m {\u001b[39m0\u001b[39m: \u001b[39m7\u001b[39m, \u001b[39m1\u001b[39m: \u001b[39m4\u001b[39m, \u001b[39m2\u001b[39m: \u001b[39m1\u001b[39m, \u001b[39m3\u001b[39m: \u001b[39m1\u001b[39m}\n",
      "\u001b[0;31mAttributeError\u001b[0m: 'mujoco._structs.MjOption' object has no attribute 'collision'"
     ]
    }
   ],
   "source": [
    "env = CARLBraxAnt(contexts=contexts, use_language_goals=True)\n",
    "env.reset()\n",
    "print(f\"Current context ID: {env.context_id}\")\n",
    "print(f\"Current context: {env.context}\")"
   ]
  },
  {
   "cell_type": "code",
   "execution_count": null,
   "metadata": {},
   "outputs": [],
   "source": [
    "action = env.action_space.sample()\n",
    "state, reward, terminated, truncated, info = env.step(action)\n",
    "done = terminated or truncated\n",
    "plt.imshow(env.render())\n",
    "print(state)\n",
    "print(reward)"
   ]
  },
  {
   "cell_type": "code",
   "execution_count": null,
   "metadata": {},
   "outputs": [],
   "source": [
    "context_distributions = [NormalFloatContextFeature(\"goal_position_x\", mu=9.8, sigma=1), NormalFloatContextFeature(\"goal_position_y\", mu=9.8, sigma=1)]\n",
    "context_sampler = ContextSampler(\n",
    "        context_distributions=context_distributions,\n",
    "        context_space=CARLBraxPusher.get_context_space(),\n",
    "        seed=seed,\n",
    "    )\n",
    "contexts = context_sampler.sample_contexts(n_contexts=5)\n",
    "print(contexts)\n",
    "env = CARLBraxPusher(contexts)\n",
    "env.reset()\n",
    "print(f\"Current context ID: {env.context_id}\")\n",
    "print(f\"Current context: {env.context}\")"
   ]
  },
  {
   "cell_type": "code",
   "execution_count": null,
   "metadata": {},
   "outputs": [],
   "source": [
    "action = env.action_space.sample()\n",
    "state, reward, terminated, truncated, info = env.step(action)\n",
    "done = terminated or truncated\n",
    "plt.imshow(env.render())\n",
    "print(state)\n",
    "print(reward)"
   ]
  }
 ],
 "metadata": {
  "kernelspec": {
   "display_name": "carl",
   "language": "python",
   "name": "python3"
  },
  "language_info": {
   "codemirror_mode": {
    "name": "ipython",
    "version": 3
   },
   "file_extension": ".py",
   "mimetype": "text/x-python",
   "name": "python",
   "nbconvert_exporter": "python",
   "pygments_lexer": "ipython3",
   "version": "3.9.16"
  }
 },
 "nbformat": 4,
 "nbformat_minor": 2
}
