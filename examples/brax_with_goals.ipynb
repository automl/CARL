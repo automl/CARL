{
 "cells": [
  {
   "cell_type": "code",
   "execution_count": 1,
   "metadata": {},
   "outputs": [
    {
     "name": "stderr",
     "output_type": "stream",
     "text": [
      "/Users/theeimer/anaconda3/envs/carl/lib/python3.9/site-packages/carl/envs/__init__.py:31: UserWarning: Module py4j not found. If you want to use these environments, please follow the installation guide.\n",
      "  warnings.warn(\n",
      "/Users/theeimer/anaconda3/envs/carl/lib/python3.9/site-packages/carl/envs/__init__.py:31: UserWarning: Module distance not found. If you want to use these environments, please follow the installation guide.\n",
      "  warnings.warn(\n",
      "/Users/theeimer/anaconda3/envs/carl/lib/python3.9/site-packages/carl/__init__.py:55: UserWarning: Module py4j not found. If you want to use these environments,\n",
      "                    please follow the installation guide.\n",
      "  warnings.warn(\n"
     ]
    }
   ],
   "source": [
    "import matplotlib.pyplot as plt\n",
    "from carl.context.context_space import NormalFloatContextFeature, CategoricalContextFeature\n",
    "from carl.context.sampler import ContextSampler\n",
    "from carl.envs import CARLBraxAnt, CARLBraxPusher\n",
    "from carl.envs.brax.brax_walker_goal_wrapper import directions\n"
   ]
  },
  {
   "cell_type": "code",
   "execution_count": 2,
   "metadata": {},
   "outputs": [
    {
     "name": "stdout",
     "output_type": "stream",
     "text": [
      "{0: {'gravity': -9.8, 'friction': 1.0, 'elasticity': 0.0, 'ang_damping': -0.05, 'mass_torso': 10.0, 'viscosity': 0.0, 'target_direction': 112, 'target_distance': 8.957275946170714}, 1: {'gravity': -9.8, 'friction': 1.0, 'elasticity': 0.0, 'ang_damping': -0.05, 'mass_torso': 10.0, 'viscosity': 0.0, 'target_direction': 334, 'target_distance': 11.769924447869895}, 2: {'gravity': -9.8, 'friction': 1.0, 'elasticity': 0.0, 'ang_damping': -0.05, 'mass_torso': 10.0, 'viscosity': 0.0, 'target_direction': 332, 'target_distance': 11.066118529857778}, 3: {'gravity': -9.8, 'friction': 1.0, 'elasticity': 0.0, 'ang_damping': -0.05, 'mass_torso': 10.0, 'viscosity': 0.0, 'target_direction': 112, 'target_distance': 9.294123460239488}, 4: {'gravity': -9.8, 'friction': 1.0, 'elasticity': 0.0, 'ang_damping': -0.05, 'mass_torso': 10.0, 'viscosity': 0.0, 'target_direction': 14, 'target_distance': 12.345200778471055}}\n"
     ]
    }
   ],
   "source": [
    "seed = 0\n",
    "context_distributions = [NormalFloatContextFeature(\"target_distance\", mu=9.8, sigma=1), CategoricalContextFeature(\"target_direction\", choices=directions)]\n",
    "context_sampler = ContextSampler(\n",
    "        context_distributions=context_distributions,\n",
    "        context_space=CARLBraxAnt.get_context_space(),\n",
    "        seed=seed,\n",
    "    )\n",
    "contexts = context_sampler.sample_contexts(n_contexts=5)\n",
    "print(contexts)"
   ]
  },
  {
   "cell_type": "code",
   "execution_count": 3,
   "metadata": {},
   "outputs": [
    {
     "ename": "KeyError",
     "evalue": "'target_direction'",
     "output_type": "error",
     "traceback": [
      "\u001b[0;31m---------------------------------------------------------------------------\u001b[0m",
      "\u001b[0;31mKeyError\u001b[0m                                  Traceback (most recent call last)",
      "\u001b[1;32m/Users/theeimer/Documents/git/CARL/examples/brax_with_goals.ipynb Cell 3\u001b[0m line \u001b[0;36m1\n\u001b[0;32m----> <a href='vscode-notebook-cell:/Users/theeimer/Documents/git/CARL/examples/brax_with_goals.ipynb#W2sZmlsZQ%3D%3D?line=0'>1</a>\u001b[0m env \u001b[39m=\u001b[39m CARLBraxAnt(contexts\u001b[39m=\u001b[39;49mcontexts, use_language_goals\u001b[39m=\u001b[39;49m\u001b[39mTrue\u001b[39;49;00m)\n\u001b[1;32m      <a href='vscode-notebook-cell:/Users/theeimer/Documents/git/CARL/examples/brax_with_goals.ipynb#W2sZmlsZQ%3D%3D?line=1'>2</a>\u001b[0m env\u001b[39m.\u001b[39mreset()\n\u001b[1;32m      <a href='vscode-notebook-cell:/Users/theeimer/Documents/git/CARL/examples/brax_with_goals.ipynb#W2sZmlsZQ%3D%3D?line=2'>3</a>\u001b[0m \u001b[39mprint\u001b[39m(\u001b[39mf\u001b[39m\u001b[39m\"\u001b[39m\u001b[39mCurrent context ID: \u001b[39m\u001b[39m{\u001b[39;00menv\u001b[39m.\u001b[39mcontext_id\u001b[39m}\u001b[39;00m\u001b[39m\"\u001b[39m)\n",
      "File \u001b[0;32m~/anaconda3/envs/carl/lib/python3.9/site-packages/carl/envs/brax/carl_brax_env.py:207\u001b[0m, in \u001b[0;36mCARLBraxEnv.__init__\u001b[0;34m(self, env, batch_size, contexts, obs_context_features, obs_context_as_dict, context_selector, context_selector_kwargs, **kwargs)\u001b[0m\n\u001b[1;32m    200\u001b[0m     \u001b[39m# The observation space also needs to from gymnasium\u001b[39;00m\n\u001b[1;32m    201\u001b[0m     env\u001b[39m.\u001b[39mobservation_space \u001b[39m=\u001b[39m gymnasium\u001b[39m.\u001b[39mspaces\u001b[39m.\u001b[39mBox(\n\u001b[1;32m    202\u001b[0m         low\u001b[39m=\u001b[39menv\u001b[39m.\u001b[39mobservation_space\u001b[39m.\u001b[39mlow,\n\u001b[1;32m    203\u001b[0m         high\u001b[39m=\u001b[39menv\u001b[39m.\u001b[39mobservation_space\u001b[39m.\u001b[39mhigh,\n\u001b[1;32m    204\u001b[0m         dtype\u001b[39m=\u001b[39mnp\u001b[39m.\u001b[39mfloat32,\n\u001b[1;32m    205\u001b[0m     )\n\u001b[0;32m--> 207\u001b[0m \u001b[39msuper\u001b[39;49m()\u001b[39m.\u001b[39;49m\u001b[39m__init__\u001b[39;49m(\n\u001b[1;32m    208\u001b[0m     env\u001b[39m=\u001b[39;49menv,\n\u001b[1;32m    209\u001b[0m     contexts\u001b[39m=\u001b[39;49mcontexts,\n\u001b[1;32m    210\u001b[0m     obs_context_features\u001b[39m=\u001b[39;49mobs_context_features,\n\u001b[1;32m    211\u001b[0m     obs_context_as_dict\u001b[39m=\u001b[39;49mobs_context_as_dict,\n\u001b[1;32m    212\u001b[0m     context_selector\u001b[39m=\u001b[39;49mcontext_selector,\n\u001b[1;32m    213\u001b[0m     context_selector_kwargs\u001b[39m=\u001b[39;49mcontext_selector_kwargs,\n\u001b[1;32m    214\u001b[0m     \u001b[39m*\u001b[39;49m\u001b[39m*\u001b[39;49mkwargs,\n\u001b[1;32m    215\u001b[0m )\n",
      "File \u001b[0;32m~/anaconda3/envs/carl/lib/python3.9/site-packages/carl/envs/carl_env.py:110\u001b[0m, in \u001b[0;36mCARLEnv.__init__\u001b[0;34m(self, env, contexts, obs_context_features, obs_context_as_dict, context_selector, context_selector_kwargs, **kwargs)\u001b[0m\n\u001b[1;32m    104\u001b[0m \u001b[39melse\u001b[39;00m:\n\u001b[1;32m    105\u001b[0m     \u001b[39mraise\u001b[39;00m \u001b[39mValueError\u001b[39;00m(\n\u001b[1;32m    106\u001b[0m         \u001b[39mf\u001b[39m\u001b[39m\"\u001b[39m\u001b[39mContext selector must be None or an AbstractSelector class or instance. \u001b[39m\u001b[39m\"\u001b[39m\n\u001b[1;32m    107\u001b[0m         \u001b[39mf\u001b[39m\u001b[39m\"\u001b[39m\u001b[39mGot type \u001b[39m\u001b[39m{\u001b[39;00m\u001b[39mtype\u001b[39m(context_selector)\u001b[39m}\u001b[39;00m\u001b[39m.\u001b[39m\u001b[39m\"\u001b[39m\n\u001b[1;32m    108\u001b[0m     )\n\u001b[0;32m--> 110\u001b[0m \u001b[39mself\u001b[39m\u001b[39m.\u001b[39mobservation_space: gymnasium\u001b[39m.\u001b[39mspaces\u001b[39m.\u001b[39mDict \u001b[39m=\u001b[39m \u001b[39mself\u001b[39;49m\u001b[39m.\u001b[39;49mget_observation_space(\n\u001b[1;32m    111\u001b[0m     obs_context_feature_names\u001b[39m=\u001b[39;49m\u001b[39mself\u001b[39;49m\u001b[39m.\u001b[39;49mobs_context_features\n\u001b[1;32m    112\u001b[0m )\n",
      "File \u001b[0;32m~/anaconda3/envs/carl/lib/python3.9/site-packages/carl/envs/carl_env.py:177\u001b[0m, in \u001b[0;36mCARLEnv.get_observation_space\u001b[0;34m(self, obs_context_feature_names)\u001b[0m\n\u001b[1;32m    162\u001b[0m \u001b[39m\u001b[39m\u001b[39m\"\"\"Get the observation space for the context.\u001b[39;00m\n\u001b[1;32m    163\u001b[0m \n\u001b[1;32m    164\u001b[0m \u001b[39mParameters\u001b[39;00m\n\u001b[0;32m   (...)\u001b[0m\n\u001b[1;32m    174\u001b[0m \u001b[39m    underlying environment (\"state\") and for the context (\"context\").\u001b[39;00m\n\u001b[1;32m    175\u001b[0m \u001b[39m\"\"\"\u001b[39;00m\n\u001b[1;32m    176\u001b[0m context_space \u001b[39m=\u001b[39m \u001b[39mself\u001b[39m\u001b[39m.\u001b[39mget_context_space()\n\u001b[0;32m--> 177\u001b[0m obs_space_context \u001b[39m=\u001b[39m context_space\u001b[39m.\u001b[39;49mto_gymnasium_space(\n\u001b[1;32m    178\u001b[0m     context_feature_names\u001b[39m=\u001b[39;49mobs_context_feature_names,\n\u001b[1;32m    179\u001b[0m     as_dict\u001b[39m=\u001b[39;49m\u001b[39mself\u001b[39;49m\u001b[39m.\u001b[39;49mobs_context_as_dict,\n\u001b[1;32m    180\u001b[0m )\n\u001b[1;32m    182\u001b[0m obs_space \u001b[39m=\u001b[39m spaces\u001b[39m.\u001b[39mDict(\n\u001b[1;32m    183\u001b[0m     {\n\u001b[1;32m    184\u001b[0m         \u001b[39m\"\u001b[39m\u001b[39mobs\u001b[39m\u001b[39m\"\u001b[39m: \u001b[39mself\u001b[39m\u001b[39m.\u001b[39mbase_observation_space,\n\u001b[1;32m    185\u001b[0m         \u001b[39m\"\u001b[39m\u001b[39mcontext\u001b[39m\u001b[39m\"\u001b[39m: obs_space_context,\n\u001b[1;32m    186\u001b[0m     }\n\u001b[1;32m    187\u001b[0m )\n\u001b[1;32m    188\u001b[0m \u001b[39mreturn\u001b[39;00m obs_space\n",
      "File \u001b[0;32m~/anaconda3/envs/carl/lib/python3.9/site-packages/carl/context/context_space.py:170\u001b[0m, in \u001b[0;36mContextSpace.to_gymnasium_space\u001b[0;34m(self, context_feature_names, as_dict)\u001b[0m\n\u001b[1;32m    167\u001b[0m context_space \u001b[39m=\u001b[39m {}\n\u001b[1;32m    169\u001b[0m \u001b[39mfor\u001b[39;00m cf_name \u001b[39min\u001b[39;00m context_feature_names:\n\u001b[0;32m--> 170\u001b[0m     context_feature \u001b[39m=\u001b[39m \u001b[39mself\u001b[39;49m\u001b[39m.\u001b[39;49mcontext_space[cf_name]\n\u001b[1;32m    171\u001b[0m     \u001b[39mif\u001b[39;00m \u001b[39misinstance\u001b[39m(context_feature, NumericalContextFeature):\n\u001b[1;32m    172\u001b[0m         context_space[context_feature\u001b[39m.\u001b[39mname] \u001b[39m=\u001b[39m spaces\u001b[39m.\u001b[39mBox(\n\u001b[1;32m    173\u001b[0m             low\u001b[39m=\u001b[39mcontext_feature\u001b[39m.\u001b[39mlower, high\u001b[39m=\u001b[39mcontext_feature\u001b[39m.\u001b[39mupper\n\u001b[1;32m    174\u001b[0m         )\n",
      "\u001b[0;31mKeyError\u001b[0m: 'target_direction'"
     ]
    }
   ],
   "source": [
    "env = CARLBraxAnt(contexts=contexts, use_language_goals=True)\n",
    "env.reset()\n",
    "print(f\"Current context ID: {env.context_id}\")\n",
    "print(f\"Current context: {env.context}\")"
   ]
  },
  {
   "cell_type": "code",
   "execution_count": null,
   "metadata": {},
   "outputs": [],
   "source": [
    "action = env.action_space.sample()\n",
    "state, reward, terminated, truncated, info = env.step(action)\n",
    "done = terminated or truncated\n",
    "plt.imshow(env.render())\n",
    "print(state)\n",
    "print(reward)"
   ]
  },
  {
   "cell_type": "code",
   "execution_count": null,
   "metadata": {},
   "outputs": [],
   "source": [
    "context_distributions = [NormalFloatContextFeature(\"goal_position_x\", mu=9.8, sigma=1), NormalFloatContextFeature(\"goal_position_y\", mu=9.8, sigma=1)]\n",
    "context_sampler = ContextSampler(\n",
    "        context_distributions=context_distributions,\n",
    "        context_space=CARLBraxPusher.get_context_space(),\n",
    "        seed=seed,\n",
    "    )\n",
    "contexts = context_sampler.sample_contexts(n_contexts=5)\n",
    "print(contexts)\n",
    "env = CARLBraxPusher(contexts)\n",
    "env.reset()\n",
    "print(f\"Current context ID: {env.context_id}\")\n",
    "print(f\"Current context: {env.context}\")"
   ]
  },
  {
   "cell_type": "code",
   "execution_count": null,
   "metadata": {},
   "outputs": [],
   "source": [
    "action = env.action_space.sample()\n",
    "state, reward, terminated, truncated, info = env.step(action)\n",
    "done = terminated or truncated\n",
    "plt.imshow(env.render())\n",
    "print(state)\n",
    "print(reward)"
   ]
  }
 ],
 "metadata": {
  "kernelspec": {
   "display_name": "carl",
   "language": "python",
   "name": "python3"
  },
  "language_info": {
   "codemirror_mode": {
    "name": "ipython",
    "version": 3
   },
   "file_extension": ".py",
   "mimetype": "text/x-python",
   "name": "python",
   "nbconvert_exporter": "python",
   "pygments_lexer": "ipython3",
   "version": "3.9.16"
  }
 },
 "nbformat": 4,
 "nbformat_minor": 2
}
