{
 "cells": [
  {
   "attachments": {},
   "cell_type": "markdown",
   "metadata": {},
   "source": [
    "# Let's demo LunarLander!\n",
    "\n",
    "We'll use the solution heuristic for lunar lander as well as a random policy to see how the gravity influences the environment.\n",
    "First, let's import what we need:"
   ]
  },
  {
   "cell_type": "code",
   "execution_count": 1,
   "metadata": {},
   "outputs": [
    {
     "name": "stderr",
     "output_type": "stream",
     "text": [
      "/Users/theeimer/Documents/git/CARL/carl/envs/__init__.py:36: UserWarning: Module py4j not found. If you want to use these environments, please follow the installation guide.\n",
      "  warnings.warn(\n",
      "/Users/theeimer/Documents/git/CARL/carl/envs/__init__.py:36: UserWarning: Module distance not found. If you want to use these environments, please follow the installation guide.\n",
      "  warnings.warn(\n",
      "/Users/theeimer/Documents/git/CARL/carl/__init__.py:55: UserWarning: Module py4j not found. If you want to use these environments,\n",
      "                    please follow the installation guide.\n",
      "  warnings.warn(\n"
     ]
    }
   ],
   "source": [
    "from typing import Union, Optional\n",
    "import numpy as np\n",
    "\n",
    "from gymnasium.envs.box2d.lunar_lander import heuristic\n",
    "import gymnasium.envs.box2d.lunar_lander as lunar_lander\n",
    "from carl.envs.gymnasium.box2d.carl_lunarlander import CARLLunarLander\n",
    "from carl.context.context_space import UniformFloatContextFeature\n",
    "from carl.context.sampler import ContextSampler"
   ]
  },
  {
   "attachments": {},
   "cell_type": "markdown",
   "metadata": {},
   "source": [
    "Then we define our training loop using the heuristic to select the actions:"
   ]
  },
  {
   "cell_type": "code",
   "execution_count": 2,
   "metadata": {},
   "outputs": [],
   "source": [
    "def run_lunar_lander(\n",
    "    env: Union[\n",
    "        CARLLunarLander, lunar_lander.LunarLander, lunar_lander.LunarLanderContinuous\n",
    "    ],\n",
    "    seed: Optional[int] = None,\n",
    "    render: bool = True,\n",
    ") -> float:\n",
    "    \"\"\"\n",
    "    Copied from LunarLander\n",
    "    \"\"\"\n",
    "    total_reward = 0\n",
    "    steps = 0\n",
    "\n",
    "    s, _ = env.reset(\n",
    "        seed=seed,\n",
    "    )\n",
    "    s = s[\"obs\"]\n",
    "\n",
    "    if render:\n",
    "        env.render()\n",
    "\n",
    "    while True:\n",
    "        a = heuristic(env, s)\n",
    "\n",
    "        s, r, done, truncated, info = env.step(a)\n",
    "        s = s[\"obs\"]\n",
    "\n",
    "        total_reward += r\n",
    "\n",
    "        if render and steps % 20 == 0:\n",
    "            still_open = env.render()\n",
    "\n",
    "        if done or truncated:  # or steps % 20 == 0:\n",
    "            # print(\"observations:\", \" \".join([\"{:+0.2f}\".format(x) for x in s]))\n",
    "            print(\"Total reward with heuristic: {:+0.2f}\".format(total_reward))\n",
    "        steps += 1\n",
    "        if done:\n",
    "            break\n",
    "    return total_reward"
   ]
  },
  {
   "attachments": {},
   "cell_type": "markdown",
   "metadata": {},
   "source": [
    "And here's the random training loop:"
   ]
  },
  {
   "cell_type": "code",
   "execution_count": 3,
   "metadata": {},
   "outputs": [],
   "source": [
    "def run_lunar_lander_random(\n",
    "    env: Union[\n",
    "        CARLLunarLander, lunar_lander.LunarLander, lunar_lander.LunarLanderContinuous\n",
    "    ],\n",
    "    seed: Optional[int] = None,\n",
    "    render: bool = True,\n",
    ") -> float:\n",
    "    \"\"\"\n",
    "    Copied from LunarLander\n",
    "    \"\"\"\n",
    "    total_reward = 0\n",
    "    steps = 0\n",
    "\n",
    "    s, _ = env.reset(\n",
    "        seed=seed,\n",
    "    )\n",
    "    s = s[\"obs\"]\n",
    "\n",
    "    if render:\n",
    "        env.render()\n",
    "\n",
    "    while True:\n",
    "        a = env.action_space.sample()\n",
    "\n",
    "        s, r, done, truncated, info = env.step(a)\n",
    "        s = s[\"obs\"]\n",
    "\n",
    "        total_reward += r\n",
    "\n",
    "        if render and steps % 20 == 0:\n",
    "            still_open = env.render()\n",
    "\n",
    "        if done or truncated:  # or steps % 20 == 0:\n",
    "            # print(\"observations:\", \" \".join([\"{:+0.2f}\".format(x) for x in s]))\n",
    "            print(\"Total reward with random policy: {:+0.2f}\".format(total_reward))\n",
    "            print(\"\\n\")\n",
    "        steps += 1\n",
    "        if done:\n",
    "            break\n",
    "    return total_reward"
   ]
  },
  {
   "attachments": {},
   "cell_type": "markdown",
   "metadata": {},
   "source": [
    "Now we're ready to go! We'll run 5 times with different gravities:"
   ]
  },
  {
   "cell_type": "code",
   "execution_count": 4,
   "metadata": {},
   "outputs": [
    {
     "name": "stderr",
     "output_type": "stream",
     "text": [
      "/Users/theeimer/anaconda3/envs/carl/lib/python3.9/site-packages/gymnasium/core.py:311: UserWarning: \u001b[33mWARN: env.continuous to get variables from other wrappers is deprecated and will be removed in v1.0, to get this variable you can do `env.unwrapped.continuous` for environment variables or `env.get_wrapper_attr('continuous')` that will search the reminding wrappers.\u001b[0m\n",
      "  logger.warn(\n"
     ]
    },
    {
     "name": "stdout",
     "output_type": "stream",
     "text": [
      "Running LunarLander with gravity 6.63.\n",
      "Total reward with heuristic: +297.35\n",
      "Total reward with random policy: -151.41\n",
      "\n",
      "\n",
      "Running LunarLander with gravity 5.06.\n",
      "Total reward with heuristic: +260.94\n",
      "Total reward with random policy: -319.07\n",
      "\n",
      "\n",
      "Running LunarLander with gravity 5.29.\n",
      "Total reward with heuristic: +254.62\n",
      "Total reward with random policy: -258.45\n",
      "\n",
      "\n",
      "Running LunarLander with gravity 6.65.\n",
      "Total reward with heuristic: +244.49\n",
      "Total reward with random policy: -150.64\n",
      "\n",
      "\n",
      "Running LunarLander with gravity 11.61.\n",
      "Total reward with heuristic: +265.87\n",
      "Total reward with random policy: -128.88\n",
      "\n",
      "\n"
     ]
    }
   ],
   "source": [
    "gravities = []\n",
    "performance_heuristic = []\n",
    "performance_random = []\n",
    "for seed in range(5):\n",
    "    context_distributions = [UniformFloatContextFeature(\"gravity\", upper=12, lower=0.1)]\n",
    "    context_sampler = ContextSampler(\n",
    "            context_distributions=context_distributions,\n",
    "            context_space=CARLLunarLander.get_context_space(),\n",
    "            seed=seed,\n",
    "        )\n",
    "    contexts = context_sampler.sample_contexts(n_contexts=1)\n",
    "    gravities.append(np.round(contexts[0]['gravity'], decimals=2))\n",
    "    print(f\"Running LunarLander with gravity {np.round(contexts[0]['gravity'], decimals=2)}.\")\n",
    "    env = CARLLunarLander()\n",
    "    performance_heuristic.append(run_lunar_lander(env, seed=seed, render=True))\n",
    "    performance_random.append(run_lunar_lander_random(env, seed=seed, render=True))\n",
    "env.close()"
   ]
  },
  {
   "attachments": {},
   "cell_type": "markdown",
   "metadata": {},
   "source": [
    "Now let's see the result:"
   ]
  },
  {
   "cell_type": "code",
   "execution_count": 5,
   "metadata": {},
   "outputs": [
    {
     "data": {
      "text/plain": [
       "Text(0.5, 0, 'Gravity')"
      ]
     },
     "execution_count": 5,
     "metadata": {},
     "output_type": "execute_result"
    },
    {
     "data": {
      "image/png": "[encoded data removed]",
      "text/plain": [
       "<Figure size 640x480 with 1 Axes>"
      ]
     },
     "metadata": {},
     "output_type": "display_data"
    }
   ],
   "source": [
    "import seaborn as sns\n",
    "sns.pointplot(x=gravities, y=performance_heuristic, label=\"heuristic\", color=\"gold\")\n",
    "ax = sns.pointplot(x=gravities, y=performance_random, label=\"random\", color='aquamarine')\n",
    "ax.legend()\n",
    "ax.set_title(\"Landing on different Gravities/Planets\")\n",
    "ax.set_ylabel(\"Total episode reward\")\n",
    "ax.set_xlabel(\"Gravity\")"
   ]
  }
 ],
 "metadata": {
  "kernelspec": {
   "display_name": "carl",
   "language": "python",
   "name": "python3"
  },
  "language_info": {
   "codemirror_mode": {
    "name": "ipython",
    "version": 3
   },
   "file_extension": ".py",
   "mimetype": "text/x-python",
   "name": "python",
   "nbconvert_exporter": "python",
   "pygments_lexer": "ipython3",
   "version": "3.9.16"
  },
  "orig_nbformat": 4
 },
 "nbformat": 4,
 "nbformat_minor": 2
}
